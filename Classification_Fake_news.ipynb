{
 "cells": [
  {
   "cell_type": "markdown",
   "id": "65ef2f9e",
   "metadata": {
    "id": "65ef2f9e"
   },
   "source": [
    "## Fake News Classification "
   ]
  },
  {
   "cell_type": "code",
   "execution_count": 191,
   "id": "8aeb7f64",
   "metadata": {
    "id": "8aeb7f64"
   },
   "outputs": [],
   "source": [
    "#importing basic libraries\n",
    "import pandas as pd\n",
    "import numpy as np\n",
    "import matplotlib.pyplot as plt\n",
    "import seaborn as sns\n",
    "import warnings\n",
    "warnings.filterwarnings('ignore')"
   ]
  },
  {
   "cell_type": "code",
   "execution_count": 192,
   "id": "7f5f4c6d",
   "metadata": {
    "id": "7f5f4c6d"
   },
   "outputs": [],
   "source": [
    "dfnews = pd.read_csv('news_articles.csv')"
   ]
  },
  {
   "cell_type": "code",
   "execution_count": 193,
   "id": "09f17cd1",
   "metadata": {
    "colab": {
     "base_uri": "https://localhost:8080/",
     "height": 337
    },
    "id": "09f17cd1",
    "outputId": "b8d0ecca-7aa1-4356-900c-fcf23e0f5eaf",
    "scrolled": true
   },
   "outputs": [
    {
     "data": {
      "text/html": [
       "<div>\n",
       "<style scoped>\n",
       "    .dataframe tbody tr th:only-of-type {\n",
       "        vertical-align: middle;\n",
       "    }\n",
       "\n",
       "    .dataframe tbody tr th {\n",
       "        vertical-align: top;\n",
       "    }\n",
       "\n",
       "    .dataframe thead th {\n",
       "        text-align: right;\n",
       "    }\n",
       "</style>\n",
       "<table border=\"1\" class=\"dataframe\">\n",
       "  <thead>\n",
       "    <tr style=\"text-align: right;\">\n",
       "      <th></th>\n",
       "      <th>author</th>\n",
       "      <th>published</th>\n",
       "      <th>title</th>\n",
       "      <th>text</th>\n",
       "      <th>language</th>\n",
       "      <th>site_url</th>\n",
       "      <th>main_img_url</th>\n",
       "      <th>type</th>\n",
       "      <th>label</th>\n",
       "      <th>title_without_stopwords</th>\n",
       "      <th>text_without_stopwords</th>\n",
       "      <th>hasImage</th>\n",
       "    </tr>\n",
       "  </thead>\n",
       "  <tbody>\n",
       "    <tr>\n",
       "      <th>0</th>\n",
       "      <td>Barracuda Brigade</td>\n",
       "      <td>2016-10-26T21:41:00.000+03:00</td>\n",
       "      <td>muslims busted they stole millions in govt ben...</td>\n",
       "      <td>print they should pay all the back all the mon...</td>\n",
       "      <td>english</td>\n",
       "      <td>100percentfedup.com</td>\n",
       "      <td>http://bb4sp.com/wp-content/uploads/2016/10/Fu...</td>\n",
       "      <td>bias</td>\n",
       "      <td>Real</td>\n",
       "      <td>muslims busted stole millions govt benefits</td>\n",
       "      <td>print pay back money plus interest entire fami...</td>\n",
       "      <td>1.0</td>\n",
       "    </tr>\n",
       "    <tr>\n",
       "      <th>1</th>\n",
       "      <td>reasoning with facts</td>\n",
       "      <td>2016-10-29T08:47:11.259+03:00</td>\n",
       "      <td>re why did attorney general loretta lynch plea...</td>\n",
       "      <td>why did attorney general loretta lynch plead t...</td>\n",
       "      <td>english</td>\n",
       "      <td>100percentfedup.com</td>\n",
       "      <td>http://bb4sp.com/wp-content/uploads/2016/10/Fu...</td>\n",
       "      <td>bias</td>\n",
       "      <td>Real</td>\n",
       "      <td>attorney general loretta lynch plead fifth</td>\n",
       "      <td>attorney general loretta lynch plead fifth bar...</td>\n",
       "      <td>1.0</td>\n",
       "    </tr>\n",
       "    <tr>\n",
       "      <th>2</th>\n",
       "      <td>Barracuda Brigade</td>\n",
       "      <td>2016-10-31T01:41:49.479+02:00</td>\n",
       "      <td>breaking weiner cooperating with fbi on hillar...</td>\n",
       "      <td>red state  \\nfox news sunday reported this mor...</td>\n",
       "      <td>english</td>\n",
       "      <td>100percentfedup.com</td>\n",
       "      <td>http://bb4sp.com/wp-content/uploads/2016/10/Fu...</td>\n",
       "      <td>bias</td>\n",
       "      <td>Real</td>\n",
       "      <td>breaking weiner cooperating fbi hillary email ...</td>\n",
       "      <td>red state fox news sunday reported morning ant...</td>\n",
       "      <td>1.0</td>\n",
       "    </tr>\n",
       "    <tr>\n",
       "      <th>3</th>\n",
       "      <td>Fed Up</td>\n",
       "      <td>2016-11-01T05:22:00.000+02:00</td>\n",
       "      <td>pin drop speech by father of daughter kidnappe...</td>\n",
       "      <td>email kayla mueller was a prisoner and torture...</td>\n",
       "      <td>english</td>\n",
       "      <td>100percentfedup.com</td>\n",
       "      <td>http://100percentfedup.com/wp-content/uploads/...</td>\n",
       "      <td>bias</td>\n",
       "      <td>Real</td>\n",
       "      <td>pin drop speech father daughter kidnapped kill...</td>\n",
       "      <td>email kayla mueller prisoner tortured isis cha...</td>\n",
       "      <td>1.0</td>\n",
       "    </tr>\n",
       "    <tr>\n",
       "      <th>4</th>\n",
       "      <td>Fed Up</td>\n",
       "      <td>2016-11-01T21:56:00.000+02:00</td>\n",
       "      <td>fantastic trumps  point plan to reform healthc...</td>\n",
       "      <td>email healthcare reform to make america great ...</td>\n",
       "      <td>english</td>\n",
       "      <td>100percentfedup.com</td>\n",
       "      <td>http://100percentfedup.com/wp-content/uploads/...</td>\n",
       "      <td>bias</td>\n",
       "      <td>Real</td>\n",
       "      <td>fantastic trumps point plan reform healthcare ...</td>\n",
       "      <td>email healthcare reform make america great sin...</td>\n",
       "      <td>1.0</td>\n",
       "    </tr>\n",
       "  </tbody>\n",
       "</table>\n",
       "</div>"
      ],
      "text/plain": [
       "                 author                      published  \\\n",
       "0     Barracuda Brigade  2016-10-26T21:41:00.000+03:00   \n",
       "1  reasoning with facts  2016-10-29T08:47:11.259+03:00   \n",
       "2     Barracuda Brigade  2016-10-31T01:41:49.479+02:00   \n",
       "3                Fed Up  2016-11-01T05:22:00.000+02:00   \n",
       "4                Fed Up  2016-11-01T21:56:00.000+02:00   \n",
       "\n",
       "                                               title  \\\n",
       "0  muslims busted they stole millions in govt ben...   \n",
       "1  re why did attorney general loretta lynch plea...   \n",
       "2  breaking weiner cooperating with fbi on hillar...   \n",
       "3  pin drop speech by father of daughter kidnappe...   \n",
       "4  fantastic trumps  point plan to reform healthc...   \n",
       "\n",
       "                                                text language  \\\n",
       "0  print they should pay all the back all the mon...  english   \n",
       "1  why did attorney general loretta lynch plead t...  english   \n",
       "2  red state  \\nfox news sunday reported this mor...  english   \n",
       "3  email kayla mueller was a prisoner and torture...  english   \n",
       "4  email healthcare reform to make america great ...  english   \n",
       "\n",
       "              site_url                                       main_img_url  \\\n",
       "0  100percentfedup.com  http://bb4sp.com/wp-content/uploads/2016/10/Fu...   \n",
       "1  100percentfedup.com  http://bb4sp.com/wp-content/uploads/2016/10/Fu...   \n",
       "2  100percentfedup.com  http://bb4sp.com/wp-content/uploads/2016/10/Fu...   \n",
       "3  100percentfedup.com  http://100percentfedup.com/wp-content/uploads/...   \n",
       "4  100percentfedup.com  http://100percentfedup.com/wp-content/uploads/...   \n",
       "\n",
       "   type label                            title_without_stopwords  \\\n",
       "0  bias  Real        muslims busted stole millions govt benefits   \n",
       "1  bias  Real         attorney general loretta lynch plead fifth   \n",
       "2  bias  Real  breaking weiner cooperating fbi hillary email ...   \n",
       "3  bias  Real  pin drop speech father daughter kidnapped kill...   \n",
       "4  bias  Real  fantastic trumps point plan reform healthcare ...   \n",
       "\n",
       "                              text_without_stopwords  hasImage  \n",
       "0  print pay back money plus interest entire fami...       1.0  \n",
       "1  attorney general loretta lynch plead fifth bar...       1.0  \n",
       "2  red state fox news sunday reported morning ant...       1.0  \n",
       "3  email kayla mueller prisoner tortured isis cha...       1.0  \n",
       "4  email healthcare reform make america great sin...       1.0  "
      ]
     },
     "execution_count": 193,
     "metadata": {},
     "output_type": "execute_result"
    }
   ],
   "source": [
    "dfnews.head()"
   ]
  },
  {
   "cell_type": "code",
   "execution_count": 194,
   "id": "1e2dbb56",
   "metadata": {
    "colab": {
     "base_uri": "https://localhost:8080/",
     "height": 737
    },
    "id": "1e2dbb56",
    "outputId": "76846dac-0e30-40d2-a655-c7ccac4030c8"
   },
   "outputs": [
    {
     "data": {
      "text/html": [
       "<div>\n",
       "<style scoped>\n",
       "    .dataframe tbody tr th:only-of-type {\n",
       "        vertical-align: middle;\n",
       "    }\n",
       "\n",
       "    .dataframe tbody tr th {\n",
       "        vertical-align: top;\n",
       "    }\n",
       "\n",
       "    .dataframe thead th {\n",
       "        text-align: right;\n",
       "    }\n",
       "</style>\n",
       "<table border=\"1\" class=\"dataframe\">\n",
       "  <thead>\n",
       "    <tr style=\"text-align: right;\">\n",
       "      <th></th>\n",
       "      <th>author</th>\n",
       "      <th>published</th>\n",
       "      <th>title</th>\n",
       "      <th>text</th>\n",
       "      <th>language</th>\n",
       "      <th>site_url</th>\n",
       "      <th>main_img_url</th>\n",
       "      <th>type</th>\n",
       "      <th>label</th>\n",
       "      <th>title_without_stopwords</th>\n",
       "      <th>text_without_stopwords</th>\n",
       "      <th>hasImage</th>\n",
       "    </tr>\n",
       "  </thead>\n",
       "  <tbody>\n",
       "    <tr>\n",
       "      <th>1879</th>\n",
       "      <td>GPD</td>\n",
       "      <td>2016-10-30T10:08:39.252+02:00</td>\n",
       "      <td>time for fbi director comey to go</td>\n",
       "      <td>has anyone noticed how earnest mr earnest beco...</td>\n",
       "      <td>spanish</td>\n",
       "      <td>voltairenet.org</td>\n",
       "      <td>No Image URL</td>\n",
       "      <td>bs</td>\n",
       "      <td>Fake</td>\n",
       "      <td>reasons bernie voter vote trump</td>\n",
       "      <td>josh earnest would make joseph goebbels proud</td>\n",
       "      <td>0.0</td>\n",
       "    </tr>\n",
       "    <tr>\n",
       "      <th>91</th>\n",
       "      <td>Anonymous</td>\n",
       "      <td>2016-10-29T20:55:00.000+03:00</td>\n",
       "      <td>no title</td>\n",
       "      <td>draining the swamp  youtubecomwatchvotakuaoi</td>\n",
       "      <td>english</td>\n",
       "      <td>abeldanger.net</td>\n",
       "      <td>No Image URL</td>\n",
       "      <td>bs</td>\n",
       "      <td>Fake</td>\n",
       "      <td>title</td>\n",
       "      <td>draining swamp youtubecomwatchvotakuaoi</td>\n",
       "      <td>0.0</td>\n",
       "    </tr>\n",
       "    <tr>\n",
       "      <th>951</th>\n",
       "      <td>noreply@blogger.com (Der Postillon)</td>\n",
       "      <td>2016-11-02T10:36:18.114+02:00</td>\n",
       "      <td>newsticker</td>\n",
       "      <td>donnerstag  november  oettinger ich habe nicht...</td>\n",
       "      <td>german</td>\n",
       "      <td>der-postillon.com</td>\n",
       "      <td>https://4.bp.blogspot.com/-FzQjNL-ha94/WBnYVyG...</td>\n",
       "      <td>bs</td>\n",
       "      <td>Fake</td>\n",
       "      <td>polizei fasst mann der seit jahrzehnten deckel...</td>\n",
       "      <td>für ein speckdackel fettleibiger jagdhund blei...</td>\n",
       "      <td>1.0</td>\n",
       "    </tr>\n",
       "    <tr>\n",
       "      <th>1594</th>\n",
       "      <td>No Author</td>\n",
       "      <td>2016-10-28T03:13:46.387+03:00</td>\n",
       "      <td>iraqi forces score major gains south of mosul</td>\n",
       "      <td>on today at  pm  duterte wants foreign troops ...</td>\n",
       "      <td>english</td>\n",
       "      <td>presstv.ir</td>\n",
       "      <td>http://media.presstv.com/photo/20161027/d3bfdb...</td>\n",
       "      <td>state</td>\n",
       "      <td>Real</td>\n",
       "      <td>trump vps plane slides runway new york airport</td>\n",
       "      <td>reply today pm part mother child worship https...</td>\n",
       "      <td>1.0</td>\n",
       "    </tr>\n",
       "    <tr>\n",
       "      <th>597</th>\n",
       "      <td>No Author</td>\n",
       "      <td>2016-10-28T20:13:00.000+03:00</td>\n",
       "      <td>ways to know for sure that what youre drinking...</td>\n",
       "      <td>email ever wonder whats on the mind of todays ...</td>\n",
       "      <td>english</td>\n",
       "      <td>clickhole.com</td>\n",
       "      <td>http://images.onionstatic.com/clickhole/3431/3...</td>\n",
       "      <td>satire</td>\n",
       "      <td>Fake</td>\n",
       "      <td>ways know sure youre drinking clickhole</td>\n",
       "      <td>email ever wonder whats mind todays notable pe...</td>\n",
       "      <td>1.0</td>\n",
       "    </tr>\n",
       "    <tr>\n",
       "      <th>1112</th>\n",
       "      <td>Daniel Greenfield</td>\n",
       "      <td>2016-11-02T17:19:02.038+02:00</td>\n",
       "      <td>fbi investigates saudi wifeabusing clinton fou...</td>\n",
       "      <td>majority of americans side with fbi over hilla...</td>\n",
       "      <td>english</td>\n",
       "      <td>frontpagemag.com</td>\n",
       "      <td>http://www.frontpagemag.com/sites/default/file...</td>\n",
       "      <td>hate</td>\n",
       "      <td>Real</td>\n",
       "      <td>college forces mandatory microaggression sessi...</td>\n",
       "      <td>go article nothing ought plainer yet nothing o...</td>\n",
       "      <td>1.0</td>\n",
       "    </tr>\n",
       "    <tr>\n",
       "      <th>1220</th>\n",
       "      <td>The Independent</td>\n",
       "      <td>2016-10-28T18:51:02.589+03:00</td>\n",
       "      <td>social media activity can show early signs of ...</td>\n",
       "      <td>draftourdaughters prowar hillary faces backlas...</td>\n",
       "      <td>english</td>\n",
       "      <td>infowars.com</td>\n",
       "      <td>http://hw.infowars.com/wp-content/uploads/2016...</td>\n",
       "      <td>conspiracy</td>\n",
       "      <td>Fake</td>\n",
       "      <td>black activist blasts hillary clinton wikileak...</td>\n",
       "      <td>globalists behind rigged us elections election...</td>\n",
       "      <td>1.0</td>\n",
       "    </tr>\n",
       "    <tr>\n",
       "      <th>1461</th>\n",
       "      <td>Jason Easley</td>\n",
       "      <td>2016-10-30T09:09:00.000+02:00</td>\n",
       "      <td>comeys october surprise blows up in his face a...</td>\n",
       "      <td>us admits afghan strike likely caused civilian...</td>\n",
       "      <td>english</td>\n",
       "      <td>politicususa.com</td>\n",
       "      <td>http://15130-presscdn-0-89.pagely.netdna-cdn.c...</td>\n",
       "      <td>bias</td>\n",
       "      <td>Real</td>\n",
       "      <td>fox news gets destroyed trying blame hillary c...</td>\n",
       "      <td>russia russian president vladimir putin delive...</td>\n",
       "      <td>1.0</td>\n",
       "    </tr>\n",
       "    <tr>\n",
       "      <th>733</th>\n",
       "      <td>EdJenner</td>\n",
       "      <td>2016-11-02T17:01:06.208+02:00</td>\n",
       "      <td>hillary implodes trump took everythingpaid not...</td>\n",
       "      <td>describing what she calls a crisis of whitenes...</td>\n",
       "      <td>english</td>\n",
       "      <td>dailywire.com</td>\n",
       "      <td>http://conservativeangle.com/wp-content/upload...</td>\n",
       "      <td>bias</td>\n",
       "      <td>Real</td>\n",
       "      <td>hillary implodes trump took everythingpaid not...</td>\n",
       "      <td>describing calls crisis whiteness amanda taub ...</td>\n",
       "      <td>1.0</td>\n",
       "    </tr>\n",
       "    <tr>\n",
       "      <th>988</th>\n",
       "      <td>noreply@blogger.com (Der Postillon)</td>\n",
       "      <td>2016-11-15T14:14:14.708+02:00</td>\n",
       "      <td>flitzer auf dem spielfeld schachwm muss kurzze...</td>\n",
       "      <td>mittwoch  november  einigung bei regierungsbil...</td>\n",
       "      <td>german</td>\n",
       "      <td>der-postillon.com</td>\n",
       "      <td>https://3.bp.blogspot.com/-C9_E0fWc_bg/WCswG2M...</td>\n",
       "      <td>bs</td>\n",
       "      <td>Fake</td>\n",
       "      <td>newsticker</td>\n",
       "      <td>donnerstag november krankenhaus führt operatio...</td>\n",
       "      <td>1.0</td>\n",
       "    </tr>\n",
       "  </tbody>\n",
       "</table>\n",
       "</div>"
      ],
      "text/plain": [
       "                                   author                      published  \\\n",
       "1879                                  GPD  2016-10-30T10:08:39.252+02:00   \n",
       "91                              Anonymous  2016-10-29T20:55:00.000+03:00   \n",
       "951   noreply@blogger.com (Der Postillon)  2016-11-02T10:36:18.114+02:00   \n",
       "1594                            No Author  2016-10-28T03:13:46.387+03:00   \n",
       "597                             No Author  2016-10-28T20:13:00.000+03:00   \n",
       "1112                    Daniel Greenfield  2016-11-02T17:19:02.038+02:00   \n",
       "1220                      The Independent  2016-10-28T18:51:02.589+03:00   \n",
       "1461                         Jason Easley  2016-10-30T09:09:00.000+02:00   \n",
       "733                              EdJenner  2016-11-02T17:01:06.208+02:00   \n",
       "988   noreply@blogger.com (Der Postillon)  2016-11-15T14:14:14.708+02:00   \n",
       "\n",
       "                                                  title  \\\n",
       "1879                  time for fbi director comey to go   \n",
       "91                                             no title   \n",
       "951                                          newsticker   \n",
       "1594      iraqi forces score major gains south of mosul   \n",
       "597   ways to know for sure that what youre drinking...   \n",
       "1112  fbi investigates saudi wifeabusing clinton fou...   \n",
       "1220  social media activity can show early signs of ...   \n",
       "1461  comeys october surprise blows up in his face a...   \n",
       "733   hillary implodes trump took everythingpaid not...   \n",
       "988   flitzer auf dem spielfeld schachwm muss kurzze...   \n",
       "\n",
       "                                                   text language  \\\n",
       "1879  has anyone noticed how earnest mr earnest beco...  spanish   \n",
       "91         draining the swamp  youtubecomwatchvotakuaoi  english   \n",
       "951   donnerstag  november  oettinger ich habe nicht...   german   \n",
       "1594  on today at  pm  duterte wants foreign troops ...  english   \n",
       "597   email ever wonder whats on the mind of todays ...  english   \n",
       "1112  majority of americans side with fbi over hilla...  english   \n",
       "1220  draftourdaughters prowar hillary faces backlas...  english   \n",
       "1461  us admits afghan strike likely caused civilian...  english   \n",
       "733   describing what she calls a crisis of whitenes...  english   \n",
       "988   mittwoch  november  einigung bei regierungsbil...   german   \n",
       "\n",
       "               site_url                                       main_img_url  \\\n",
       "1879    voltairenet.org                                       No Image URL   \n",
       "91       abeldanger.net                                       No Image URL   \n",
       "951   der-postillon.com  https://4.bp.blogspot.com/-FzQjNL-ha94/WBnYVyG...   \n",
       "1594         presstv.ir  http://media.presstv.com/photo/20161027/d3bfdb...   \n",
       "597       clickhole.com  http://images.onionstatic.com/clickhole/3431/3...   \n",
       "1112   frontpagemag.com  http://www.frontpagemag.com/sites/default/file...   \n",
       "1220       infowars.com  http://hw.infowars.com/wp-content/uploads/2016...   \n",
       "1461   politicususa.com  http://15130-presscdn-0-89.pagely.netdna-cdn.c...   \n",
       "733       dailywire.com  http://conservativeangle.com/wp-content/upload...   \n",
       "988   der-postillon.com  https://3.bp.blogspot.com/-C9_E0fWc_bg/WCswG2M...   \n",
       "\n",
       "            type label                            title_without_stopwords  \\\n",
       "1879          bs  Fake                    reasons bernie voter vote trump   \n",
       "91            bs  Fake                                              title   \n",
       "951           bs  Fake  polizei fasst mann der seit jahrzehnten deckel...   \n",
       "1594       state  Real     trump vps plane slides runway new york airport   \n",
       "597       satire  Fake            ways know sure youre drinking clickhole   \n",
       "1112        hate  Real  college forces mandatory microaggression sessi...   \n",
       "1220  conspiracy  Fake  black activist blasts hillary clinton wikileak...   \n",
       "1461        bias  Real  fox news gets destroyed trying blame hillary c...   \n",
       "733         bias  Real  hillary implodes trump took everythingpaid not...   \n",
       "988           bs  Fake                                         newsticker   \n",
       "\n",
       "                                 text_without_stopwords  hasImage  \n",
       "1879      josh earnest would make joseph goebbels proud       0.0  \n",
       "91              draining swamp youtubecomwatchvotakuaoi       0.0  \n",
       "951   für ein speckdackel fettleibiger jagdhund blei...       1.0  \n",
       "1594  reply today pm part mother child worship https...       1.0  \n",
       "597   email ever wonder whats mind todays notable pe...       1.0  \n",
       "1112  go article nothing ought plainer yet nothing o...       1.0  \n",
       "1220  globalists behind rigged us elections election...       1.0  \n",
       "1461  russia russian president vladimir putin delive...       1.0  \n",
       "733   describing calls crisis whiteness amanda taub ...       1.0  \n",
       "988   donnerstag november krankenhaus führt operatio...       1.0  "
      ]
     },
     "execution_count": 194,
     "metadata": {},
     "output_type": "execute_result"
    }
   ],
   "source": [
    "dfnews.sample(10)"
   ]
  },
  {
   "cell_type": "code",
   "execution_count": 195,
   "id": "7a43d9ec",
   "metadata": {
    "colab": {
     "base_uri": "https://localhost:8080/",
     "height": 299
    },
    "id": "7a43d9ec",
    "outputId": "5bf9f2ff-c6d9-4080-b925-1710fd86bc9c"
   },
   "outputs": [
    {
     "data": {
      "text/html": [
       "<div>\n",
       "<style scoped>\n",
       "    .dataframe tbody tr th:only-of-type {\n",
       "        vertical-align: middle;\n",
       "    }\n",
       "\n",
       "    .dataframe tbody tr th {\n",
       "        vertical-align: top;\n",
       "    }\n",
       "\n",
       "    .dataframe thead th {\n",
       "        text-align: right;\n",
       "    }\n",
       "</style>\n",
       "<table border=\"1\" class=\"dataframe\">\n",
       "  <thead>\n",
       "    <tr style=\"text-align: right;\">\n",
       "      <th></th>\n",
       "      <th>hasImage</th>\n",
       "    </tr>\n",
       "  </thead>\n",
       "  <tbody>\n",
       "    <tr>\n",
       "      <th>count</th>\n",
       "      <td>2095.000000</td>\n",
       "    </tr>\n",
       "    <tr>\n",
       "      <th>mean</th>\n",
       "      <td>0.777088</td>\n",
       "    </tr>\n",
       "    <tr>\n",
       "      <th>std</th>\n",
       "      <td>0.416299</td>\n",
       "    </tr>\n",
       "    <tr>\n",
       "      <th>min</th>\n",
       "      <td>0.000000</td>\n",
       "    </tr>\n",
       "    <tr>\n",
       "      <th>25%</th>\n",
       "      <td>1.000000</td>\n",
       "    </tr>\n",
       "    <tr>\n",
       "      <th>50%</th>\n",
       "      <td>1.000000</td>\n",
       "    </tr>\n",
       "    <tr>\n",
       "      <th>75%</th>\n",
       "      <td>1.000000</td>\n",
       "    </tr>\n",
       "    <tr>\n",
       "      <th>max</th>\n",
       "      <td>1.000000</td>\n",
       "    </tr>\n",
       "  </tbody>\n",
       "</table>\n",
       "</div>"
      ],
      "text/plain": [
       "          hasImage\n",
       "count  2095.000000\n",
       "mean      0.777088\n",
       "std       0.416299\n",
       "min       0.000000\n",
       "25%       1.000000\n",
       "50%       1.000000\n",
       "75%       1.000000\n",
       "max       1.000000"
      ]
     },
     "execution_count": 195,
     "metadata": {},
     "output_type": "execute_result"
    }
   ],
   "source": [
    "dfnews.describe()"
   ]
  },
  {
   "cell_type": "code",
   "execution_count": 196,
   "id": "8d1f0ca0",
   "metadata": {
    "colab": {
     "base_uri": "https://localhost:8080/"
    },
    "id": "8d1f0ca0",
    "outputId": "2be406a5-92c2-4fda-8010-cef620bc4cb6",
    "scrolled": true
   },
   "outputs": [
    {
     "name": "stdout",
     "output_type": "stream",
     "text": [
      "<class 'pandas.core.frame.DataFrame'>\n",
      "RangeIndex: 2096 entries, 0 to 2095\n",
      "Data columns (total 12 columns):\n",
      " #   Column                   Non-Null Count  Dtype  \n",
      "---  ------                   --------------  -----  \n",
      " 0   author                   2096 non-null   object \n",
      " 1   published                2096 non-null   object \n",
      " 2   title                    2096 non-null   object \n",
      " 3   text                     2050 non-null   object \n",
      " 4   language                 2095 non-null   object \n",
      " 5   site_url                 2095 non-null   object \n",
      " 6   main_img_url             2095 non-null   object \n",
      " 7   type                     2095 non-null   object \n",
      " 8   label                    2095 non-null   object \n",
      " 9   title_without_stopwords  2094 non-null   object \n",
      " 10  text_without_stopwords   2046 non-null   object \n",
      " 11  hasImage                 2095 non-null   float64\n",
      "dtypes: float64(1), object(11)\n",
      "memory usage: 196.6+ KB\n"
     ]
    }
   ],
   "source": [
    "#display info about dataset \n",
    "\n",
    "dfnews.info()"
   ]
  },
  {
   "cell_type": "code",
   "execution_count": 197,
   "id": "c1beb91b",
   "metadata": {
    "colab": {
     "base_uri": "https://localhost:8080/"
    },
    "id": "c1beb91b",
    "outputId": "eb291e5b-0f01-4eba-8865-ab8011bc1251"
   },
   "outputs": [
    {
     "data": {
      "text/plain": [
       "(2096, 12)"
      ]
     },
     "execution_count": 197,
     "metadata": {},
     "output_type": "execute_result"
    }
   ],
   "source": [
    "#size of dataset \n",
    "dfnews.shape\n"
   ]
  },
  {
   "cell_type": "markdown",
   "id": "5d735745",
   "metadata": {
    "id": "5d735745"
   },
   "source": [
    "# Data Cleaning :"
   ]
  },
  {
   "cell_type": "code",
   "execution_count": 198,
   "id": "cb58fe6b",
   "metadata": {
    "colab": {
     "base_uri": "https://localhost:8080/"
    },
    "id": "cb58fe6b",
    "outputId": "d613417a-e639-4232-854f-fb6208dffafa"
   },
   "outputs": [
    {
     "data": {
      "text/plain": [
       "author                      0\n",
       "published                   0\n",
       "title                       0\n",
       "text                       46\n",
       "language                    1\n",
       "site_url                    1\n",
       "main_img_url                1\n",
       "type                        1\n",
       "label                       1\n",
       "title_without_stopwords     2\n",
       "text_without_stopwords     50\n",
       "hasImage                    1\n",
       "dtype: int64"
      ]
     },
     "execution_count": 198,
     "metadata": {},
     "output_type": "execute_result"
    }
   ],
   "source": [
    "#check for all null values\n",
    "dfnews.isna().sum()"
   ]
  },
  {
   "cell_type": "code",
   "execution_count": 199,
   "id": "a2eae75e",
   "metadata": {
    "id": "a2eae75e"
   },
   "outputs": [],
   "source": [
    "#drop all the null values\n",
    "dfnews.dropna(inplace=True)"
   ]
  },
  {
   "cell_type": "code",
   "execution_count": 200,
   "id": "854c6c6e",
   "metadata": {
    "id": "854c6c6e",
    "scrolled": true
   },
   "outputs": [],
   "source": [
    "#Step  1- Dummiy the values in the label column , to represent Real and Fake by 1 and 0\n",
    "#Step 2-Create new columns name 'real' \n",
    "\n",
    "dum_type=pd.get_dummies(dfnews.label,drop_first=True,prefix=\"\")\n",
    "dfnews=dfnews.join(dum_type)\n",
    "dfnews.drop('label', axis=1, inplace=True)\n",
    "dfnews.rename(columns={'_Real':'Real'}, inplace=True)"
   ]
  },
  {
   "cell_type": "markdown",
   "id": "f0513383",
   "metadata": {
    "id": "f0513383"
   },
   "source": [
    "# EDA :"
   ]
  },
  {
   "cell_type": "code",
   "execution_count": 206,
   "id": "1b6cd810",
   "metadata": {},
   "outputs": [
    {
     "data": {
      "text/plain": [
       "0    1291\n",
       "1     754\n",
       "Name: Real, dtype: int64"
      ]
     },
     "execution_count": 206,
     "metadata": {},
     "output_type": "execute_result"
    }
   ],
   "source": [
    "counews=dfnews['Real'].value_counts()\n",
    "counews"
   ]
  },
  {
   "cell_type": "code",
   "execution_count": 207,
   "id": "71dfeca1",
   "metadata": {},
   "outputs": [
    {
     "data": {
      "image/png": "[encoded data removed]",
      "text/plain": [
       "<Figure size 720x360 with 1 Axes>"
      ]
     },
     "metadata": {},
     "output_type": "display_data"
    }
   ],
   "source": [
    "#Q1 :How many Real and Fake news in the dataset? \n",
    "\n",
    "\n",
    "names= ['Fake','Real']\n",
    "my_circle = plt.Circle( (0,0), 0.7, color='white')\n",
    "plt.pie(counews,labels=names,colors=['#cd0049','#e9ecec'],autopct='%.0f%%')\n",
    "p=plt.gcf()\n",
    "sns.set(rc={'figure.figsize':(10,5)})   #64058f\n",
    "\n",
    "\n",
    "p.gca().add_artist(my_circle)\n",
    "plt.title('Count of Real and Fake Data', fontdict = {'fontsize': 16},weight = 'bold')\n",
    "plt.show()"
   ]
  },
  {
   "cell_type": "code",
   "execution_count": 208,
   "id": "b8dAc3Afuh8C",
   "metadata": {
    "colab": {
     "base_uri": "https://localhost:8080/",
     "height": 541
    },
    "id": "b8dAc3Afuh8C",
    "outputId": "deb09114-eeaa-458e-cde4-44250907b07e"
   },
   "outputs": [
    {
     "data": {
      "application/vnd.plotly.v1+json": {
       "config": {
        "plotlyServerURL": "https://plot.ly"
       },
       "data": [
        {
         "domain": {
          "x": [
           0,
           1
          ],
          "y": [
           0,
           1
          ]
         },
         "hovertemplate": "type=%{label}<extra></extra>",
         "labels": [
          "bias",
          "bias",
          "bias",
          "bias",
          "bias",
          "bias",
          "bias",
          "bias",
          "bias",
          "bias",
          "bias",
          "bias",
          "bias",
          "bias",
          "bias",
          "bias",
          "bias",
          "bias",
          "bias",
          "bias",
          "bias",
          "bias",
          "bias",
          "bias",
          "bias",
          "bias",
          "bias",
          "bias",
          "bias",
          "bias",
          "bias",
          "bias",
          "bias",
          "conspiracy",
          "conspiracy",
          "conspiracy",
          "conspiracy",
          "conspiracy",
          "conspiracy",
          "conspiracy",
          "conspiracy",
          "conspiracy",
          "conspiracy",
          "conspiracy",
          "conspiracy",
          "conspiracy",
          "conspiracy",
          "conspiracy",
          "conspiracy",
          "conspiracy",
          "conspiracy",
          "conspiracy",
          "conspiracy",
          "conspiracy",
          "conspiracy",
          "conspiracy",
          "conspiracy",
          "fake",
          "fake",
          "bs",
          "bs",
          "bs",
          "bs",
          "bs",
          "bs",
          "bs",
          "bs",
          "bs",
          "bs",
          "bs",
          "bs",
          "bs",
          "bs",
          "bs",
          "bs",
          "bs",
          "bs",
          "bs",
          "bs",
          "bs",
          "bs",
          "bs",
          "bs",
          "bs",
          "bs",
          "bs",
          "bs",
          "bs",
          "bs",
          "bs",
          "bs",
          "bs",
          "bs",
          "bs",
          "bs",
          "bs",
          "bs",
          "bs",
          "bs",
          "bs",
          "bs",
          "bs",
          "bs",
          "bs",
          "bs",
          "bs",
          "bs",
          "bs",
          "bs",
          "bs",
          "bs",
          "bs",
          "bs",
          "bs",
          "bs",
          "bs",
          "bs",
          "bs",
          "bs",
          "bs",
          "bs",
          "bs",
          "bs",
          "bs",
          "bs",
          "bs",
          "bs",
          "bs",
          "bs",
          "bs",
          "bs",
          "bs",
          "bs",
          "bs",
          "bs",
          "bs",
          "bs",
          "bs",
          "bs",
          "bs",
          "bs",
          "bs",
          "bs",
          "bs",
          "bs",
          "bs",
          "bs",
          "bs",
          "bs",
          "bs",
          "bs",
          "bs",
          "bs",
          "bs",
          "bs",
          "bs",
          "bs",
          "bs",
          "bs",
          "bs",
          "bs",
          "bs",
          "bs",
          "bs",
          "bs",
          "bs",
          "bs",
          "bs",
          "bs",
          "bs",
          "bs",
          "bs",
          "bs",
          "bs",
          "bs",
          "bs",
          "bs",
          "bs",
          "bs",
          "bs",
          "bs",
          "bs",
          "bs",
          "bs",
          "bs",
          "bs",
          "bs",
          "bs",
          "bs",
          "bs",
          "bs",
          "bs",
          "bs",
          "bs",
          "conspiracy",
          "conspiracy",
          "conspiracy",
          "conspiracy",
          "conspiracy",
          "conspiracy",
          "conspiracy",
          "conspiracy",
          "conspiracy",
          "conspiracy",
          "conspiracy",
          "conspiracy",
          "conspiracy",
          "conspiracy",
          "conspiracy",
          "conspiracy",
          "conspiracy",
          "conspiracy",
          "conspiracy",
          "conspiracy",
          "conspiracy",
          "conspiracy",
          "conspiracy",
          "conspiracy",
          "conspiracy",
          "conspiracy",
          "conspiracy",
          "conspiracy",
          "conspiracy",
          "conspiracy",
          "conspiracy",
          "conspiracy",
          "conspiracy",
          "conspiracy",
          "conspiracy",
          "conspiracy",
          "conspiracy",
          "conspiracy",
          "conspiracy",
          "conspiracy",
          "conspiracy",
          "conspiracy",
          "conspiracy",
          "conspiracy",
          "conspiracy",
          "conspiracy",
          "conspiracy",
          "conspiracy",
          "conspiracy",
          "conspiracy",
          "conspiracy",
          "conspiracy",
          "conspiracy",
          "conspiracy",
          "conspiracy",
          "conspiracy",
          "conspiracy",
          "conspiracy",
          "conspiracy",
          "conspiracy",
          "conspiracy",
          "conspiracy",
          "conspiracy",
          "conspiracy",
          "conspiracy",
          "conspiracy",
          "conspiracy",
          "conspiracy",
          "conspiracy",
          "conspiracy",
          "conspiracy",
          "conspiracy",
          "conspiracy",
          "conspiracy",
          "conspiracy",
          "conspiracy",
          "conspiracy",
          "conspiracy",
          "conspiracy",
          "conspiracy",
          "conspiracy",
          "conspiracy",
          "conspiracy",
          "conspiracy",
          "conspiracy",
          "conspiracy",
          "conspiracy",
          "conspiracy",
          "conspiracy",
          "conspiracy",
          "conspiracy",
          "conspiracy",
          "conspiracy",
          "conspiracy",
          "conspiracy",
          "conspiracy",
          "conspiracy",
          "conspiracy",
          "conspiracy",
          "conspiracy",
          "bias",
          "bias",
          "bias",
          "bias",
          "bias",
          "bias",
          "bias",
          "bias",
          "bias",
          "bias",
          "bias",
          "bias",
          "bias",
          "bias",
          "bias",
          "bias",
          "bias",
          "bias",
          "bias",
          "bias",
          "fake",
          "fake",
          "fake",
          "fake",
          "fake",
          "fake",
          "fake",
          "fake",
          "fake",
          "fake",
          "fake",
          "fake",
          "fake",
          "bs",
          "bs",
          "bs",
          "bs",
          "bs",
          "bs",
          "bs",
          "bs",
          "bs",
          "bs",
          "bs",
          "bs",
          "bs",
          "bs",
          "bs",
          "bs",
          "bs",
          "bs",
          "bs",
          "bs",
          "bs",
          "bs",
          "bs",
          "bs",
          "bs",
          "bs",
          "bs",
          "bs",
          "bs",
          "bs",
          "bs",
          "bs",
          "bs",
          "bs",
          "bs",
          "bs",
          "bs",
          "bs",
          "bs",
          "bs",
          "bs",
          "bs",
          "bs",
          "bs",
          "bs",
          "bs",
          "bs",
          "bs",
          "bs",
          "bs",
          "bs",
          "bs",
          "bs",
          "bs",
          "bs",
          "bs",
          "bs",
          "bs",
          "bs",
          "bs",
          "bs",
          "bs",
          "bs",
          "bs",
          "bs",
          "bs",
          "bs",
          "bs",
          "bs",
          "bs",
          "bs",
          "bs",
          "bs",
          "bs",
          "bs",
          "bs",
          "bs",
          "bs",
          "bs",
          "bs",
          "bs",
          "bs",
          "bs",
          "bs",
          "bs",
          "bs",
          "bs",
          "bs",
          "bs",
          "bs",
          "bs",
          "bs",
          "bs",
          "bs",
          "bs",
          "bs",
          "bs",
          "bs",
          "bs",
          "bs",
          "bs",
          "bs",
          "bs",
          "bs",
          "bs",
          "bs",
          "bs",
          "bs",
          "bs",
          "bs",
          "bs",
          "bs",
          "bs",
          "bs",
          "bs",
          "bs",
          "bs",
          "bs",
          "bs",
          "bs",
          "bs",
          "bs",
          "bs",
          "bs",
          "bs",
          "bs",
          "bs",
          "bs",
          "bs",
          "bs",
          "bs",
          "bs",
          "bs",
          "bs",
          "bs",
          "bs",
          "bs",
          "bs",
          "bs",
          "bs",
          "bs",
          "bs",
          "bs",
          "bs",
          "bs",
          "bs",
          "bs",
          "bs",
          "bs",
          "bs",
          "bs",
          "bs",
          "bs",
          "bs",
          "bs",
          "bs",
          "bs",
          "conspiracy",
          "conspiracy",
          "conspiracy",
          "conspiracy",
          "conspiracy",
          "conspiracy",
          "conspiracy",
          "conspiracy",
          "conspiracy",
          "conspiracy",
          "conspiracy",
          "conspiracy",
          "conspiracy",
          "conspiracy",
          "conspiracy",
          "conspiracy",
          "conspiracy",
          "conspiracy",
          "conspiracy",
          "conspiracy",
          "conspiracy",
          "conspiracy",
          "conspiracy",
          "conspiracy",
          "conspiracy",
          "conspiracy",
          "conspiracy",
          "conspiracy",
          "conspiracy",
          "conspiracy",
          "conspiracy",
          "conspiracy",
          "conspiracy",
          "conspiracy",
          "conspiracy",
          "conspiracy",
          "conspiracy",
          "conspiracy",
          "conspiracy",
          "conspiracy",
          "conspiracy",
          "conspiracy",
          "conspiracy",
          "conspiracy",
          "conspiracy",
          "conspiracy",
          "conspiracy",
          "conspiracy",
          "conspiracy",
          "conspiracy",
          "conspiracy",
          "conspiracy",
          "conspiracy",
          "conspiracy",
          "conspiracy",
          "conspiracy",
          "conspiracy",
          "conspiracy",
          "conspiracy",
          "conspiracy",
          "conspiracy",
          "conspiracy",
          "conspiracy",
          "conspiracy",
          "conspiracy",
          "conspiracy",
          "conspiracy",
          "conspiracy",
          "conspiracy",
          "conspiracy",
          "conspiracy",
          "conspiracy",
          "conspiracy",
          "conspiracy",
          "conspiracy",
          "conspiracy",
          "conspiracy",
          "conspiracy",
          "conspiracy",
          "conspiracy",
          "conspiracy",
          "conspiracy",
          "conspiracy",
          "conspiracy",
          "conspiracy",
          "conspiracy",
          "conspiracy",
          "conspiracy",
          "conspiracy",
          "conspiracy",
          "conspiracy",
          "conspiracy",
          "conspiracy",
          "conspiracy",
          "conspiracy",
          "conspiracy",
          "conspiracy",
          "conspiracy",
          "conspiracy",
          "conspiracy",
          "bs",
          "satire",
          "satire",
          "satire",
          "satire",
          "satire",
          "satire",
          "satire",
          "satire",
          "satire",
          "satire",
          "satire",
          "satire",
          "satire",
          "satire",
          "satire",
          "satire",
          "satire",
          "satire",
          "satire",
          "satire",
          "satire",
          "satire",
          "satire",
          "satire",
          "satire",
          "satire",
          "satire",
          "satire",
          "satire",
          "satire",
          "satire",
          "satire",
          "satire",
          "satire",
          "satire",
          "satire",
          "satire",
          "satire",
          "satire",
          "satire",
          "satire",
          "satire",
          "satire",
          "satire",
          "satire",
          "satire",
          "satire",
          "satire",
          "satire",
          "satire",
          "satire",
          "satire",
          "satire",
          "satire",
          "satire",
          "satire",
          "satire",
          "satire",
          "satire",
          "satire",
          "satire",
          "satire",
          "satire",
          "satire",
          "satire",
          "satire",
          "satire",
          "satire",
          "satire",
          "satire",
          "satire",
          "satire",
          "satire",
          "satire",
          "satire",
          "satire",
          "satire",
          "satire",
          "satire",
          "satire",
          "satire",
          "satire",
          "satire",
          "satire",
          "satire",
          "satire",
          "satire",
          "satire",
          "satire",
          "satire",
          "satire",
          "satire",
          "satire",
          "satire",
          "satire",
          "satire",
          "satire",
          "satire",
          "satire",
          "satire",
          "bs",
          "bs",
          "bs",
          "bs",
          "bs",
          "bs",
          "bs",
          "bs",
          "bs",
          "bs",
          "bs",
          "bs",
          "bs",
          "bs",
          "bs",
          "bs",
          "bs",
          "bs",
          "bs",
          "bs",
          "bs",
          "bs",
          "bs",
          "bs",
          "bs",
          "bs",
          "bs",
          "bs",
          "bs",
          "bs",
          "bs",
          "bs",
          "bs",
          "bs",
          "bs",
          "bs",
          "bs",
          "bs",
          "bias",
          "bias",
          "bias",
          "bias",
          "bias",
          "bias",
          "bias",
          "bias",
          "bias",
          "bias",
          "bias",
          "bias",
          "bias",
          "bias",
          "bias",
          "bias",
          "bias",
          "bias",
          "bias",
          "bias",
          "bias",
          "bias",
          "bias",
          "bias",
          "bias",
          "bias",
          "bias",
          "bias",
          "bias",
          "bias",
          "bias",
          "bias",
          "bias",
          "bias",
          "bias",
          "bias",
          "bias",
          "bias",
          "bias",
          "bias",
          "bias",
          "bias",
          "bias",
          "bias",
          "bias",
          "bias",
          "bias",
          "bias",
          "bias",
          "bias",
          "bias",
          "bias",
          "bias",
          "bias",
          "bias",
          "bias",
          "bias",
          "bias",
          "bias",
          "bias",
          "bias",
          "bias",
          "bias",
          "bias",
          "bias",
          "bias",
          "bias",
          "bias",
          "bias",
          "bias",
          "bias",
          "bias",
          "bias",
          "bias",
          "bias",
          "bias",
          "bias",
          "bias",
          "bias",
          "bias",
          "bias",
          "bs",
          "bs",
          "bs",
          "bs",
          "bs",
          "bs",
          "bs",
          "bs",
          "bs",
          "hate",
          "hate",
          "hate",
          "hate",
          "hate",
          "hate",
          "hate",
          "hate",
          "hate",
          "hate",
          "hate",
          "hate",
          "hate",
          "hate",
          "hate",
          "hate",
          "hate",
          "hate",
          "hate",
          "hate",
          "hate",
          "hate",
          "hate",
          "hate",
          "hate",
          "hate",
          "hate",
          "hate",
          "hate",
          "hate",
          "hate",
          "hate",
          "hate",
          "hate",
          "hate",
          "hate",
          "hate",
          "hate",
          "hate",
          "hate",
          "hate",
          "hate",
          "hate",
          "hate",
          "bs",
          "bs",
          "bs",
          "bs",
          "bs",
          "bs",
          "bs",
          "junksci",
          "junksci",
          "bs",
          "bs",
          "bs",
          "bs",
          "bs",
          "bs",
          "bs",
          "bs",
          "bs",
          "bs",
          "bs",
          "bs",
          "bs",
          "bs",
          "bs",
          "bs",
          "bs",
          "bs",
          "bs",
          "bs",
          "bs",
          "bs",
          "bs",
          "bs",
          "bs",
          "bs",
          "bs",
          "bs",
          "bs",
          "bs",
          "bs",
          "bs",
          "bs",
          "bs",
          "bs",
          "bs",
          "bs",
          "bs",
          "bs",
          "bs",
          "bs",
          "bs",
          "bs",
          "bs",
          "bs",
          "bs",
          "bs",
          "bs",
          "bs",
          "bs",
          "bs",
          "bs",
          "bs",
          "bs",
          "bs",
          "bs",
          "bs",
          "bs",
          "bs",
          "bs",
          "bs",
          "bs",
          "bs",
          "bs",
          "bs",
          "bs",
          "bs",
          "bs",
          "bs",
          "bs",
          "bs",
          "bs",
          "bs",
          "bs",
          "bs",
          "bs",
          "bs",
          "bs",
          "bs",
          "bs",
          "bs",
          "bs",
          "bs",
          "bs",
          "bs",
          "bs",
          "bs",
          "bs",
          "bs",
          "bs",
          "bs",
          "bs",
          "bs",
          "bs",
          "bs",
          "bs",
          "bs",
          "bs",
          "bs",
          "bs",
          "bs",
          "bs",
          "bs",
          "bs",
          "bs",
          "bs",
          "bs",
          "bs",
          "bs",
          "bs",
          "bs",
          "bs",
          "bs",
          "bs",
          "bs",
          "bs",
          "bs",
          "bs",
          "bs",
          "bs",
          "bs",
          "bs",
          "bs",
          "bs",
          "bs",
          "bs",
          "bs",
          "bs",
          "bs",
          "bs",
          "bs",
          "bs",
          "bs",
          "bs",
          "bs",
          "bs",
          "bs",
          "bs",
          "bs",
          "bs",
          "bs",
          "bs",
          "bs",
          "bs",
          "bs",
          "bs",
          "bs",
          "bs",
          "bs",
          "bs",
          "bs",
          "bs",
          "bs",
          "bs",
          "bs",
          "bs",
          "bs",
          "bs",
          "bs",
          "bs",
          "bs",
          "bs",
          "bs",
          "bs",
          "bs",
          "bs",
          "bs",
          "bs",
          "bs",
          "hate",
          "hate",
          "hate",
          "hate",
          "hate",
          "hate",
          "hate",
          "hate",
          "hate",
          "hate",
          "hate",
          "hate",
          "hate",
          "hate",
          "hate",
          "hate",
          "hate",
          "hate",
          "hate",
          "hate",
          "hate",
          "hate",
          "hate",
          "hate",
          "hate",
          "hate",
          "hate",
          "hate",
          "hate",
          "hate",
          "hate",
          "hate",
          "hate",
          "hate",
          "hate",
          "hate",
          "hate",
          "hate",
          "hate",
          "hate",
          "hate",
          "hate",
          "hate",
          "hate",
          "hate",
          "hate",
          "hate",
          "hate",
          "hate",
          "hate",
          "hate",
          "hate",
          "hate",
          "hate",
          "hate",
          "hate",
          "hate",
          "hate",
          "hate",
          "hate",
          "hate",
          "hate",
          "hate",
          "hate",
          "hate",
          "hate",
          "hate",
          "hate",
          "hate",
          "hate",
          "hate",
          "hate",
          "hate",
          "hate",
          "hate",
          "hate",
          "hate",
          "hate",
          "hate",
          "hate",
          "hate",
          "hate",
          "hate",
          "hate",
          "hate",
          "hate",
          "hate",
          "hate",
          "hate",
          "hate",
          "hate",
          "hate",
          "hate",
          "hate",
          "hate",
          "hate",
          "hate",
          "hate",
          "hate",
          "hate",
          "bs",
          "bs",
          "bs",
          "bs",
          "bs",
          "conspiracy",
          "conspiracy",
          "conspiracy",
          "conspiracy",
          "conspiracy",
          "conspiracy",
          "conspiracy",
          "conspiracy",
          "conspiracy",
          "conspiracy",
          "conspiracy",
          "conspiracy",
          "conspiracy",
          "conspiracy",
          "conspiracy",
          "conspiracy",
          "conspiracy",
          "conspiracy",
          "conspiracy",
          "conspiracy",
          "conspiracy",
          "conspiracy",
          "conspiracy",
          "conspiracy",
          "conspiracy",
          "conspiracy",
          "conspiracy",
          "conspiracy",
          "conspiracy",
          "conspiracy",
          "conspiracy",
          "conspiracy",
          "conspiracy",
          "conspiracy",
          "conspiracy",
          "conspiracy",
          "conspiracy",
          "conspiracy",
          "conspiracy",
          "conspiracy",
          "conspiracy",
          "conspiracy",
          "conspiracy",
          "conspiracy",
          "conspiracy",
          "conspiracy",
          "conspiracy",
          "conspiracy",
          "conspiracy",
          "conspiracy",
          "conspiracy",
          "conspiracy",
          "conspiracy",
          "conspiracy",
          "conspiracy",
          "conspiracy",
          "conspiracy",
          "conspiracy",
          "conspiracy",
          "conspiracy",
          "conspiracy",
          "conspiracy",
          "conspiracy",
          "conspiracy",
          "conspiracy",
          "conspiracy",
          "conspiracy",
          "conspiracy",
          "conspiracy",
          "conspiracy",
          "conspiracy",
          "conspiracy",
          "conspiracy",
          "conspiracy",
          "conspiracy",
          "conspiracy",
          "conspiracy",
          "conspiracy",
          "conspiracy",
          "conspiracy",
          "conspiracy",
          "conspiracy",
          "conspiracy",
          "conspiracy",
          "conspiracy",
          "conspiracy",
          "conspiracy",
          "conspiracy",
          "conspiracy",
          "conspiracy",
          "conspiracy",
          "conspiracy",
          "conspiracy",
          "conspiracy",
          "conspiracy",
          "conspiracy",
          "conspiracy",
          "conspiracy",
          "conspiracy",
          "conspiracy",
          "conspiracy",
          "bs",
          "satire",
          "satire",
          "satire",
          "satire",
          "satire",
          "satire",
          "satire",
          "satire",
          "satire",
          "satire",
          "satire",
          "satire",
          "satire",
          "satire",
          "satire",
          "satire",
          "satire",
          "satire",
          "satire",
          "satire",
          "satire",
          "satire",
          "satire",
          "satire",
          "satire",
          "satire",
          "satire",
          "satire",
          "satire",
          "satire",
          "satire",
          "satire",
          "satire",
          "satire",
          "satire",
          "satire",
          "satire",
          "satire",
          "satire",
          "satire",
          "satire",
          "satire",
          "satire",
          "satire",
          "satire",
          "satire",
          "bs",
          "junksci",
          "junksci",
          "junksci",
          "junksci",
          "junksci",
          "junksci",
          "junksci",
          "junksci",
          "junksci",
          "junksci",
          "junksci",
          "junksci",
          "junksci",
          "junksci",
          "junksci",
          "junksci",
          "junksci",
          "junksci",
          "junksci",
          "junksci",
          "junksci",
          "junksci",
          "junksci",
          "junksci",
          "junksci",
          "junksci",
          "junksci",
          "junksci",
          "junksci",
          "junksci",
          "junksci",
          "junksci",
          "junksci",
          "junksci",
          "junksci",
          "junksci",
          "junksci",
          "junksci",
          "junksci",
          "junksci",
          "junksci",
          "junksci",
          "junksci",
          "junksci",
          "junksci",
          "junksci",
          "junksci",
          "junksci",
          "junksci",
          "junksci",
          "junksci",
          "junksci",
          "junksci",
          "junksci",
          "junksci",
          "junksci",
          "junksci",
          "junksci",
          "junksci",
          "junksci",
          "junksci",
          "junksci",
          "junksci",
          "junksci",
          "junksci",
          "junksci",
          "junksci",
          "junksci",
          "junksci",
          "junksci",
          "junksci",
          "junksci",
          "junksci",
          "junksci",
          "junksci",
          "junksci",
          "junksci",
          "junksci",
          "junksci",
          "junksci",
          "junksci",
          "junksci",
          "junksci",
          "junksci",
          "junksci",
          "junksci",
          "junksci",
          "junksci",
          "junksci",
          "junksci",
          "junksci",
          "junksci",
          "junksci",
          "junksci",
          "junksci",
          "junksci",
          "junksci",
          "junksci",
          "junksci",
          "junksci",
          "conspiracy",
          "conspiracy",
          "conspiracy",
          "conspiracy",
          "conspiracy",
          "bias",
          "bias",
          "bias",
          "bias",
          "bias",
          "bias",
          "bias",
          "bias",
          "bias",
          "bias",
          "bias",
          "bias",
          "bias",
          "bias",
          "bias",
          "bias",
          "bias",
          "bias",
          "bias",
          "bias",
          "bias",
          "bias",
          "bias",
          "bias",
          "bias",
          "bias",
          "bias",
          "bias",
          "bias",
          "bias",
          "bias",
          "bias",
          "bias",
          "bias",
          "bias",
          "bias",
          "bias",
          "bias",
          "bias",
          "bias",
          "bias",
          "bias",
          "bias",
          "bias",
          "bias",
          "bias",
          "bias",
          "bias",
          "bias",
          "bias",
          "bias",
          "bias",
          "bias",
          "bias",
          "bias",
          "bias",
          "bias",
          "bias",
          "bias",
          "bias",
          "bias",
          "bias",
          "bias",
          "bias",
          "bias",
          "bias",
          "bias",
          "bias",
          "bias",
          "bias",
          "bias",
          "bias",
          "bias",
          "bias",
          "bias",
          "bias",
          "bias",
          "bias",
          "bias",
          "bias",
          "bias",
          "bias",
          "bias",
          "bias",
          "bias",
          "bias",
          "bias",
          "bias",
          "bias",
          "bias",
          "bias",
          "bias",
          "bias",
          "bias",
          "bias",
          "bias",
          "bias",
          "bias",
          "bias",
          "bias",
          "state",
          "state",
          "state",
          "state",
          "state",
          "state",
          "state",
          "state",
          "state",
          "state",
          "state",
          "state",
          "state",
          "state",
          "state",
          "state",
          "state",
          "state",
          "state",
          "state",
          "state",
          "state",
          "state",
          "state",
          "state",
          "state",
          "state",
          "state",
          "state",
          "state",
          "state",
          "state",
          "state",
          "state",
          "state",
          "state",
          "state",
          "state",
          "state",
          "state",
          "state",
          "state",
          "state",
          "state",
          "state",
          "state",
          "state",
          "state",
          "state",
          "state",
          "state",
          "state",
          "state",
          "state",
          "state",
          "state",
          "state",
          "state",
          "state",
          "state",
          "state",
          "state",
          "state",
          "state",
          "state",
          "state",
          "state",
          "state",
          "state",
          "state",
          "state",
          "state",
          "state",
          "state",
          "state",
          "state",
          "state",
          "state",
          "state",
          "state",
          "state",
          "state",
          "state",
          "state",
          "state",
          "state",
          "state",
          "state",
          "state",
          "state",
          "state",
          "state",
          "state",
          "state",
          "state",
          "state",
          "state",
          "state",
          "state",
          "state",
          "state",
          "state",
          "state",
          "state",
          "state",
          "state",
          "state",
          "state",
          "state",
          "state",
          "state",
          "state",
          "state",
          "state",
          "state",
          "state",
          "state",
          "state",
          "state",
          "state",
          "state",
          "conspiracy",
          "conspiracy",
          "conspiracy",
          "conspiracy",
          "conspiracy",
          "conspiracy",
          "conspiracy",
          "conspiracy",
          "conspiracy",
          "conspiracy",
          "conspiracy",
          "conspiracy",
          "conspiracy",
          "conspiracy",
          "conspiracy",
          "conspiracy",
          "conspiracy",
          "conspiracy",
          "conspiracy",
          "conspiracy",
          "conspiracy",
          "conspiracy",
          "conspiracy",
          "conspiracy",
          "conspiracy",
          "conspiracy",
          "conspiracy",
          "conspiracy",
          "conspiracy",
          "conspiracy",
          "conspiracy",
          "conspiracy",
          "conspiracy",
          "conspiracy",
          "conspiracy",
          "conspiracy",
          "conspiracy",
          "conspiracy",
          "conspiracy",
          "conspiracy",
          "conspiracy",
          "conspiracy",
          "conspiracy",
          "conspiracy",
          "conspiracy",
          "conspiracy",
          "conspiracy",
          "conspiracy",
          "conspiracy",
          "conspiracy",
          "conspiracy",
          "conspiracy",
          "conspiracy",
          "conspiracy",
          "conspiracy",
          "conspiracy",
          "conspiracy",
          "conspiracy",
          "conspiracy",
          "conspiracy",
          "conspiracy",
          "conspiracy",
          "conspiracy",
          "conspiracy",
          "conspiracy",
          "conspiracy",
          "conspiracy",
          "conspiracy",
          "conspiracy",
          "conspiracy",
          "conspiracy",
          "conspiracy",
          "conspiracy",
          "conspiracy",
          "conspiracy",
          "conspiracy",
          "conspiracy",
          "conspiracy",
          "conspiracy",
          "conspiracy",
          "conspiracy",
          "conspiracy",
          "conspiracy",
          "conspiracy",
          "conspiracy",
          "conspiracy",
          "conspiracy",
          "conspiracy",
          "conspiracy",
          "conspiracy",
          "conspiracy",
          "conspiracy",
          "conspiracy",
          "conspiracy",
          "conspiracy",
          "conspiracy",
          "conspiracy",
          "conspiracy",
          "conspiracy",
          "conspiracy",
          "bias",
          "bs",
          "bias",
          "hate",
          "hate",
          "hate",
          "hate",
          "hate",
          "hate",
          "hate",
          "hate",
          "hate",
          "hate",
          "hate",
          "hate",
          "hate",
          "hate",
          "hate",
          "hate",
          "hate",
          "hate",
          "hate",
          "hate",
          "hate",
          "hate",
          "hate",
          "hate",
          "hate",
          "hate",
          "hate",
          "hate",
          "hate",
          "hate",
          "hate",
          "hate",
          "hate",
          "hate",
          "hate",
          "hate",
          "hate",
          "hate",
          "hate",
          "hate",
          "hate",
          "hate",
          "hate",
          "hate",
          "hate",
          "hate",
          "hate",
          "hate",
          "hate",
          "hate",
          "hate",
          "hate",
          "hate",
          "hate",
          "hate",
          "hate",
          "hate",
          "hate",
          "hate",
          "hate",
          "hate",
          "hate",
          "hate",
          "hate",
          "hate",
          "hate",
          "hate",
          "hate",
          "hate",
          "hate",
          "hate",
          "hate",
          "hate",
          "hate",
          "hate",
          "hate",
          "hate",
          "hate",
          "hate",
          "hate",
          "hate",
          "hate",
          "hate",
          "hate",
          "hate",
          "hate",
          "hate",
          "hate",
          "hate",
          "hate",
          "hate",
          "hate",
          "hate",
          "hate",
          "hate",
          "hate",
          "hate",
          "hate",
          "hate",
          "hate",
          "bs",
          "bs",
          "bs",
          "bs",
          "bs",
          "bs",
          "bs",
          "bs",
          "bs",
          "bs",
          "bs",
          "bs",
          "bs",
          "bs",
          "bs",
          "bs",
          "bs",
          "bs",
          "bs",
          "bs",
          "bs",
          "bs",
          "bs",
          "bs",
          "bs",
          "bs",
          "bs",
          "bs",
          "bs",
          "bs",
          "bs",
          "bs",
          "bs",
          "bs",
          "bs",
          "bs",
          "bs",
          "bs",
          "bs",
          "bs",
          "bs",
          "bs",
          "bs",
          "bs",
          "bs",
          "bs",
          "bs",
          "bs",
          "bs",
          "bs",
          "bs",
          "bs",
          "bs",
          "bs",
          "bs",
          "bs",
          "bs",
          "bs",
          "bs",
          "bs",
          "bs",
          "bs",
          "bias",
          "bias",
          "bias",
          "bias",
          "bias",
          "bias",
          "bias",
          "bias",
          "bias",
          "bias",
          "bias",
          "bias",
          "bias",
          "bias",
          "bias",
          "bias",
          "bias",
          "bias",
          "bias",
          "bias",
          "bias",
          "bias",
          "bias",
          "bias",
          "bias",
          "bias",
          "bias",
          "bias",
          "bias",
          "bias",
          "bias",
          "bias",
          "bias",
          "bias",
          "bias",
          "bias",
          "bias",
          "bias",
          "bias",
          "bias",
          "bias",
          "bias",
          "bias",
          "bias",
          "bias",
          "bias",
          "bias",
          "bias",
          "bias",
          "bias",
          "bias",
          "bias",
          "bias",
          "bias",
          "bias",
          "bias",
          "bias",
          "bias",
          "bias",
          "bias",
          "bias",
          "bias",
          "bias",
          "bias",
          "bias",
          "bias",
          "bias",
          "bias",
          "bias",
          "bias",
          "bias",
          "bias",
          "bias",
          "bias",
          "bias",
          "bias",
          "bias",
          "bias",
          "bias",
          "bias",
          "bias",
          "bias",
          "bias",
          "bias",
          "bias",
          "bias",
          "bias",
          "bias",
          "bias",
          "bias",
          "bias",
          "bias",
          "bias",
          "bias",
          "bias",
          "bias",
          "bias",
          "bias",
          "bias",
          "bias",
          "bs",
          "bs",
          "bs",
          "bs",
          "bs",
          "bs",
          "bs",
          "bs",
          "bs",
          "bs",
          "bs",
          "bs",
          "bias",
          "bias",
          "bias",
          "bias",
          "bias",
          "bias",
          "bias",
          "bias",
          "bias",
          "bias",
          "bias",
          "bias",
          "bias",
          "bias",
          "bias",
          "bias",
          "bias",
          "bias",
          "bias",
          "bias",
          "bias",
          "bias",
          "bias",
          "bias",
          "bias",
          "bias",
          "bias",
          "bias",
          "bias",
          "bias",
          "bias",
          "bias",
          "bias",
          "bias",
          "bias",
          "bias",
          "bias",
          "bias",
          "bias",
          "bias",
          "bias",
          "bias",
          "bias",
          "bias",
          "bias",
          "bias",
          "bias",
          "bias",
          "bias",
          "bias",
          "bias",
          "bias",
          "bias"
         ],
         "legendgroup": "",
         "name": "",
         "showlegend": true,
         "type": "pie"
        }
       ],
       "layout": {
        "legend": {
         "tracegroupgap": 0
        },
        "template": {
         "data": {
          "bar": [
           {
            "error_x": {
             "color": "#2a3f5f"
            },
            "error_y": {
             "color": "#2a3f5f"
            },
            "marker": {
             "line": {
              "color": "#E5ECF6",
              "width": 0.5
             },
             "pattern": {
              "fillmode": "overlay",
              "size": 10,
              "solidity": 0.2
             }
            },
            "type": "bar"
           }
          ],
          "barpolar": [
           {
            "marker": {
             "line": {
              "color": "#E5ECF6",
              "width": 0.5
             },
             "pattern": {
              "fillmode": "overlay",
              "size": 10,
              "solidity": 0.2
             }
            },
            "type": "barpolar"
           }
          ],
          "carpet": [
           {
            "aaxis": {
             "endlinecolor": "#2a3f5f",
             "gridcolor": "white",
             "linecolor": "white",
             "minorgridcolor": "white",
             "startlinecolor": "#2a3f5f"
            },
            "baxis": {
             "endlinecolor": "#2a3f5f",
             "gridcolor": "white",
             "linecolor": "white",
             "minorgridcolor": "white",
             "startlinecolor": "#2a3f5f"
            },
            "type": "carpet"
           }
          ],
          "choropleth": [
           {
            "colorbar": {
             "outlinewidth": 0,
             "ticks": ""
            },
            "type": "choropleth"
           }
          ],
          "contour": [
           {
            "colorbar": {
             "outlinewidth": 0,
             "ticks": ""
            },
            "colorscale": [
             [
              0,
              "#0d0887"
             ],
             [
              0.1111111111111111,
              "#46039f"
             ],
             [
              0.2222222222222222,
              "#7201a8"
             ],
             [
              0.3333333333333333,
              "#9c179e"
             ],
             [
              0.4444444444444444,
              "#bd3786"
             ],
             [
              0.5555555555555556,
              "#d8576b"
             ],
             [
              0.6666666666666666,
              "#ed7953"
             ],
             [
              0.7777777777777778,
              "#fb9f3a"
             ],
             [
              0.8888888888888888,
              "#fdca26"
             ],
             [
              1,
              "#f0f921"
             ]
            ],
            "type": "contour"
           }
          ],
          "contourcarpet": [
           {
            "colorbar": {
             "outlinewidth": 0,
             "ticks": ""
            },
            "type": "contourcarpet"
           }
          ],
          "heatmap": [
           {
            "colorbar": {
             "outlinewidth": 0,
             "ticks": ""
            },
            "colorscale": [
             [
              0,
              "#0d0887"
             ],
             [
              0.1111111111111111,
              "#46039f"
             ],
             [
              0.2222222222222222,
              "#7201a8"
             ],
             [
              0.3333333333333333,
              "#9c179e"
             ],
             [
              0.4444444444444444,
              "#bd3786"
             ],
             [
              0.5555555555555556,
              "#d8576b"
             ],
             [
              0.6666666666666666,
              "#ed7953"
             ],
             [
              0.7777777777777778,
              "#fb9f3a"
             ],
             [
              0.8888888888888888,
              "#fdca26"
             ],
             [
              1,
              "#f0f921"
             ]
            ],
            "type": "heatmap"
           }
          ],
          "heatmapgl": [
           {
            "colorbar": {
             "outlinewidth": 0,
             "ticks": ""
            },
            "colorscale": [
             [
              0,
              "#0d0887"
             ],
             [
              0.1111111111111111,
              "#46039f"
             ],
             [
              0.2222222222222222,
              "#7201a8"
             ],
             [
              0.3333333333333333,
              "#9c179e"
             ],
             [
              0.4444444444444444,
              "#bd3786"
             ],
             [
              0.5555555555555556,
              "#d8576b"
             ],
             [
              0.6666666666666666,
              "#ed7953"
             ],
             [
              0.7777777777777778,
              "#fb9f3a"
             ],
             [
              0.8888888888888888,
              "#fdca26"
             ],
             [
              1,
              "#f0f921"
             ]
            ],
            "type": "heatmapgl"
           }
          ],
          "histogram": [
           {
            "marker": {
             "pattern": {
              "fillmode": "overlay",
              "size": 10,
              "solidity": 0.2
             }
            },
            "type": "histogram"
           }
          ],
          "histogram2d": [
           {
            "colorbar": {
             "outlinewidth": 0,
             "ticks": ""
            },
            "colorscale": [
             [
              0,
              "#0d0887"
             ],
             [
              0.1111111111111111,
              "#46039f"
             ],
             [
              0.2222222222222222,
              "#7201a8"
             ],
             [
              0.3333333333333333,
              "#9c179e"
             ],
             [
              0.4444444444444444,
              "#bd3786"
             ],
             [
              0.5555555555555556,
              "#d8576b"
             ],
             [
              0.6666666666666666,
              "#ed7953"
             ],
             [
              0.7777777777777778,
              "#fb9f3a"
             ],
             [
              0.8888888888888888,
              "#fdca26"
             ],
             [
              1,
              "#f0f921"
             ]
            ],
            "type": "histogram2d"
           }
          ],
          "histogram2dcontour": [
           {
            "colorbar": {
             "outlinewidth": 0,
             "ticks": ""
            },
            "colorscale": [
             [
              0,
              "#0d0887"
             ],
             [
              0.1111111111111111,
              "#46039f"
             ],
             [
              0.2222222222222222,
              "#7201a8"
             ],
             [
              0.3333333333333333,
              "#9c179e"
             ],
             [
              0.4444444444444444,
              "#bd3786"
             ],
             [
              0.5555555555555556,
              "#d8576b"
             ],
             [
              0.6666666666666666,
              "#ed7953"
             ],
             [
              0.7777777777777778,
              "#fb9f3a"
             ],
             [
              0.8888888888888888,
              "#fdca26"
             ],
             [
              1,
              "#f0f921"
             ]
            ],
            "type": "histogram2dcontour"
           }
          ],
          "mesh3d": [
           {
            "colorbar": {
             "outlinewidth": 0,
             "ticks": ""
            },
            "type": "mesh3d"
           }
          ],
          "parcoords": [
           {
            "line": {
             "colorbar": {
              "outlinewidth": 0,
              "ticks": ""
             }
            },
            "type": "parcoords"
           }
          ],
          "pie": [
           {
            "automargin": true,
            "type": "pie"
           }
          ],
          "scatter": [
           {
            "marker": {
             "colorbar": {
              "outlinewidth": 0,
              "ticks": ""
             }
            },
            "type": "scatter"
           }
          ],
          "scatter3d": [
           {
            "line": {
             "colorbar": {
              "outlinewidth": 0,
              "ticks": ""
             }
            },
            "marker": {
             "colorbar": {
              "outlinewidth": 0,
              "ticks": ""
             }
            },
            "type": "scatter3d"
           }
          ],
          "scattercarpet": [
           {
            "marker": {
             "colorbar": {
              "outlinewidth": 0,
              "ticks": ""
             }
            },
            "type": "scattercarpet"
           }
          ],
          "scattergeo": [
           {
            "marker": {
             "colorbar": {
              "outlinewidth": 0,
              "ticks": ""
             }
            },
            "type": "scattergeo"
           }
          ],
          "scattergl": [
           {
            "marker": {
             "colorbar": {
              "outlinewidth": 0,
              "ticks": ""
             }
            },
            "type": "scattergl"
           }
          ],
          "scattermapbox": [
           {
            "marker": {
             "colorbar": {
              "outlinewidth": 0,
              "ticks": ""
             }
            },
            "type": "scattermapbox"
           }
          ],
          "scatterpolar": [
           {
            "marker": {
             "colorbar": {
              "outlinewidth": 0,
              "ticks": ""
             }
            },
            "type": "scatterpolar"
           }
          ],
          "scatterpolargl": [
           {
            "marker": {
             "colorbar": {
              "outlinewidth": 0,
              "ticks": ""
             }
            },
            "type": "scatterpolargl"
           }
          ],
          "scatterternary": [
           {
            "marker": {
             "colorbar": {
              "outlinewidth": 0,
              "ticks": ""
             }
            },
            "type": "scatterternary"
           }
          ],
          "surface": [
           {
            "colorbar": {
             "outlinewidth": 0,
             "ticks": ""
            },
            "colorscale": [
             [
              0,
              "#0d0887"
             ],
             [
              0.1111111111111111,
              "#46039f"
             ],
             [
              0.2222222222222222,
              "#7201a8"
             ],
             [
              0.3333333333333333,
              "#9c179e"
             ],
             [
              0.4444444444444444,
              "#bd3786"
             ],
             [
              0.5555555555555556,
              "#d8576b"
             ],
             [
              0.6666666666666666,
              "#ed7953"
             ],
             [
              0.7777777777777778,
              "#fb9f3a"
             ],
             [
              0.8888888888888888,
              "#fdca26"
             ],
             [
              1,
              "#f0f921"
             ]
            ],
            "type": "surface"
           }
          ],
          "table": [
           {
            "cells": {
             "fill": {
              "color": "#EBF0F8"
             },
             "line": {
              "color": "white"
             }
            },
            "header": {
             "fill": {
              "color": "#C8D4E3"
             },
             "line": {
              "color": "white"
             }
            },
            "type": "table"
           }
          ]
         },
         "layout": {
          "annotationdefaults": {
           "arrowcolor": "#2a3f5f",
           "arrowhead": 0,
           "arrowwidth": 1
          },
          "autotypenumbers": "strict",
          "coloraxis": {
           "colorbar": {
            "outlinewidth": 0,
            "ticks": ""
           }
          },
          "colorscale": {
           "diverging": [
            [
             0,
             "#8e0152"
            ],
            [
             0.1,
             "#c51b7d"
            ],
            [
             0.2,
             "#de77ae"
            ],
            [
             0.3,
             "#f1b6da"
            ],
            [
             0.4,
             "#fde0ef"
            ],
            [
             0.5,
             "#f7f7f7"
            ],
            [
             0.6,
             "#e6f5d0"
            ],
            [
             0.7,
             "#b8e186"
            ],
            [
             0.8,
             "#7fbc41"
            ],
            [
             0.9,
             "#4d9221"
            ],
            [
             1,
             "#276419"
            ]
           ],
           "sequential": [
            [
             0,
             "#0d0887"
            ],
            [
             0.1111111111111111,
             "#46039f"
            ],
            [
             0.2222222222222222,
             "#7201a8"
            ],
            [
             0.3333333333333333,
             "#9c179e"
            ],
            [
             0.4444444444444444,
             "#bd3786"
            ],
            [
             0.5555555555555556,
             "#d8576b"
            ],
            [
             0.6666666666666666,
             "#ed7953"
            ],
            [
             0.7777777777777778,
             "#fb9f3a"
            ],
            [
             0.8888888888888888,
             "#fdca26"
            ],
            [
             1,
             "#f0f921"
            ]
           ],
           "sequentialminus": [
            [
             0,
             "#0d0887"
            ],
            [
             0.1111111111111111,
             "#46039f"
            ],
            [
             0.2222222222222222,
             "#7201a8"
            ],
            [
             0.3333333333333333,
             "#9c179e"
            ],
            [
             0.4444444444444444,
             "#bd3786"
            ],
            [
             0.5555555555555556,
             "#d8576b"
            ],
            [
             0.6666666666666666,
             "#ed7953"
            ],
            [
             0.7777777777777778,
             "#fb9f3a"
            ],
            [
             0.8888888888888888,
             "#fdca26"
            ],
            [
             1,
             "#f0f921"
            ]
           ]
          },
          "colorway": [
           "#636efa",
           "#EF553B",
           "#00cc96",
           "#ab63fa",
           "#FFA15A",
           "#19d3f3",
           "#FF6692",
           "#B6E880",
           "#FF97FF",
           "#FECB52"
          ],
          "font": {
           "color": "#2a3f5f"
          },
          "geo": {
           "bgcolor": "white",
           "lakecolor": "white",
           "landcolor": "#E5ECF6",
           "showlakes": true,
           "showland": true,
           "subunitcolor": "white"
          },
          "hoverlabel": {
           "align": "left"
          },
          "hovermode": "closest",
          "mapbox": {
           "style": "light"
          },
          "paper_bgcolor": "white",
          "plot_bgcolor": "#E5ECF6",
          "polar": {
           "angularaxis": {
            "gridcolor": "white",
            "linecolor": "white",
            "ticks": ""
           },
           "bgcolor": "#E5ECF6",
           "radialaxis": {
            "gridcolor": "white",
            "linecolor": "white",
            "ticks": ""
           }
          },
          "scene": {
           "xaxis": {
            "backgroundcolor": "#E5ECF6",
            "gridcolor": "white",
            "gridwidth": 2,
            "linecolor": "white",
            "showbackground": true,
            "ticks": "",
            "zerolinecolor": "white"
           },
           "yaxis": {
            "backgroundcolor": "#E5ECF6",
            "gridcolor": "white",
            "gridwidth": 2,
            "linecolor": "white",
            "showbackground": true,
            "ticks": "",
            "zerolinecolor": "white"
           },
           "zaxis": {
            "backgroundcolor": "#E5ECF6",
            "gridcolor": "white",
            "gridwidth": 2,
            "linecolor": "white",
            "showbackground": true,
            "ticks": "",
            "zerolinecolor": "white"
           }
          },
          "shapedefaults": {
           "line": {
            "color": "#2a3f5f"
           }
          },
          "ternary": {
           "aaxis": {
            "gridcolor": "white",
            "linecolor": "white",
            "ticks": ""
           },
           "baxis": {
            "gridcolor": "white",
            "linecolor": "white",
            "ticks": ""
           },
           "bgcolor": "#E5ECF6",
           "caxis": {
            "gridcolor": "white",
            "linecolor": "white",
            "ticks": ""
           }
          },
          "title": {
           "x": 0.05
          },
          "xaxis": {
           "automargin": true,
           "gridcolor": "white",
           "linecolor": "white",
           "ticks": "",
           "title": {
            "standoff": 15
           },
           "zerolinecolor": "white",
           "zerolinewidth": 2
          },
          "yaxis": {
           "automargin": true,
           "gridcolor": "white",
           "linecolor": "white",
           "ticks": "",
           "title": {
            "standoff": 15
           },
           "zerolinecolor": "white",
           "zerolinewidth": 2
          }
         }
        },
        "title": {
         "text": "Types of Articles"
        }
       }
      },
      "text/html": [
       "<div>                            <div id=\"44ba2c62-9209-4cb5-9ed3-cc0a6f9b7f0e\" class=\"plotly-graph-div\" style=\"height:525px; width:100%;\"></div>            <script type=\"text/javascript\">                require([\"plotly\"], function(Plotly) {                    window.PLOTLYENV=window.PLOTLYENV || {};                                    if (document.getElementById(\"44ba2c62-9209-4cb5-9ed3-cc0a6f9b7f0e\")) {                    Plotly.newPlot(                        \"44ba2c62-9209-4cb5-9ed3-cc0a6f9b7f0e\",                        [{\"domain\":{\"x\":[0.0,1.0],\"y\":[0.0,1.0]},\"hovertemplate\":\"type=%{label}<extra></extra>\",\"labels\":[\"bias\",\"bias\",\"bias\",\"bias\",\"bias\",\"bias\",\"bias\",\"bias\",\"bias\",\"bias\",\"bias\",\"bias\",\"bias\",\"bias\",\"bias\",\"bias\",\"bias\",\"bias\",\"bias\",\"bias\",\"bias\",\"bias\",\"bias\",\"bias\",\"bias\",\"bias\",\"bias\",\"bias\",\"bias\",\"bias\",\"bias\",\"bias\",\"bias\",\"conspiracy\",\"conspiracy\",\"conspiracy\",\"conspiracy\",\"conspiracy\",\"conspiracy\",\"conspiracy\",\"conspiracy\",\"conspiracy\",\"conspiracy\",\"conspiracy\",\"conspiracy\",\"conspiracy\",\"conspiracy\",\"conspiracy\",\"conspiracy\",\"conspiracy\",\"conspiracy\",\"conspiracy\",\"conspiracy\",\"conspiracy\",\"conspiracy\",\"conspiracy\",\"conspiracy\",\"fake\",\"fake\",\"bs\",\"bs\",\"bs\",\"bs\",\"bs\",\"bs\",\"bs\",\"bs\",\"bs\",\"bs\",\"bs\",\"bs\",\"bs\",\"bs\",\"bs\",\"bs\",\"bs\",\"bs\",\"bs\",\"bs\",\"bs\",\"bs\",\"bs\",\"bs\",\"bs\",\"bs\",\"bs\",\"bs\",\"bs\",\"bs\",\"bs\",\"bs\",\"bs\",\"bs\",\"bs\",\"bs\",\"bs\",\"bs\",\"bs\",\"bs\",\"bs\",\"bs\",\"bs\",\"bs\",\"bs\",\"bs\",\"bs\",\"bs\",\"bs\",\"bs\",\"bs\",\"bs\",\"bs\",\"bs\",\"bs\",\"bs\",\"bs\",\"bs\",\"bs\",\"bs\",\"bs\",\"bs\",\"bs\",\"bs\",\"bs\",\"bs\",\"bs\",\"bs\",\"bs\",\"bs\",\"bs\",\"bs\",\"bs\",\"bs\",\"bs\",\"bs\",\"bs\",\"bs\",\"bs\",\"bs\",\"bs\",\"bs\",\"bs\",\"bs\",\"bs\",\"bs\",\"bs\",\"bs\",\"bs\",\"bs\",\"bs\",\"bs\",\"bs\",\"bs\",\"bs\",\"bs\",\"bs\",\"bs\",\"bs\",\"bs\",\"bs\",\"bs\",\"bs\",\"bs\",\"bs\",\"bs\",\"bs\",\"bs\",\"bs\",\"bs\",\"bs\",\"bs\",\"bs\",\"bs\",\"bs\",\"bs\",\"bs\",\"bs\",\"bs\",\"bs\",\"bs\",\"bs\",\"bs\",\"bs\",\"bs\",\"bs\",\"bs\",\"bs\",\"bs\",\"bs\",\"bs\",\"bs\",\"bs\",\"bs\",\"bs\",\"conspiracy\",\"conspiracy\",\"conspiracy\",\"conspiracy\",\"conspiracy\",\"conspiracy\",\"conspiracy\",\"conspiracy\",\"conspiracy\",\"conspiracy\",\"conspiracy\",\"conspiracy\",\"conspiracy\",\"conspiracy\",\"conspiracy\",\"conspiracy\",\"conspiracy\",\"conspiracy\",\"conspiracy\",\"conspiracy\",\"conspiracy\",\"conspiracy\",\"conspiracy\",\"conspiracy\",\"conspiracy\",\"conspiracy\",\"conspiracy\",\"conspiracy\",\"conspiracy\",\"conspiracy\",\"conspiracy\",\"conspiracy\",\"conspiracy\",\"conspiracy\",\"conspiracy\",\"conspiracy\",\"conspiracy\",\"conspiracy\",\"conspiracy\",\"conspiracy\",\"conspiracy\",\"conspiracy\",\"conspiracy\",\"conspiracy\",\"conspiracy\",\"conspiracy\",\"conspiracy\",\"conspiracy\",\"conspiracy\",\"conspiracy\",\"conspiracy\",\"conspiracy\",\"conspiracy\",\"conspiracy\",\"conspiracy\",\"conspiracy\",\"conspiracy\",\"conspiracy\",\"conspiracy\",\"conspiracy\",\"conspiracy\",\"conspiracy\",\"conspiracy\",\"conspiracy\",\"conspiracy\",\"conspiracy\",\"conspiracy\",\"conspiracy\",\"conspiracy\",\"conspiracy\",\"conspiracy\",\"conspiracy\",\"conspiracy\",\"conspiracy\",\"conspiracy\",\"conspiracy\",\"conspiracy\",\"conspiracy\",\"conspiracy\",\"conspiracy\",\"conspiracy\",\"conspiracy\",\"conspiracy\",\"conspiracy\",\"conspiracy\",\"conspiracy\",\"conspiracy\",\"conspiracy\",\"conspiracy\",\"conspiracy\",\"conspiracy\",\"conspiracy\",\"conspiracy\",\"conspiracy\",\"conspiracy\",\"conspiracy\",\"conspiracy\",\"conspiracy\",\"conspiracy\",\"conspiracy\",\"bias\",\"bias\",\"bias\",\"bias\",\"bias\",\"bias\",\"bias\",\"bias\",\"bias\",\"bias\",\"bias\",\"bias\",\"bias\",\"bias\",\"bias\",\"bias\",\"bias\",\"bias\",\"bias\",\"bias\",\"fake\",\"fake\",\"fake\",\"fake\",\"fake\",\"fake\",\"fake\",\"fake\",\"fake\",\"fake\",\"fake\",\"fake\",\"fake\",\"bs\",\"bs\",\"bs\",\"bs\",\"bs\",\"bs\",\"bs\",\"bs\",\"bs\",\"bs\",\"bs\",\"bs\",\"bs\",\"bs\",\"bs\",\"bs\",\"bs\",\"bs\",\"bs\",\"bs\",\"bs\",\"bs\",\"bs\",\"bs\",\"bs\",\"bs\",\"bs\",\"bs\",\"bs\",\"bs\",\"bs\",\"bs\",\"bs\",\"bs\",\"bs\",\"bs\",\"bs\",\"bs\",\"bs\",\"bs\",\"bs\",\"bs\",\"bs\",\"bs\",\"bs\",\"bs\",\"bs\",\"bs\",\"bs\",\"bs\",\"bs\",\"bs\",\"bs\",\"bs\",\"bs\",\"bs\",\"bs\",\"bs\",\"bs\",\"bs\",\"bs\",\"bs\",\"bs\",\"bs\",\"bs\",\"bs\",\"bs\",\"bs\",\"bs\",\"bs\",\"bs\",\"bs\",\"bs\",\"bs\",\"bs\",\"bs\",\"bs\",\"bs\",\"bs\",\"bs\",\"bs\",\"bs\",\"bs\",\"bs\",\"bs\",\"bs\",\"bs\",\"bs\",\"bs\",\"bs\",\"bs\",\"bs\",\"bs\",\"bs\",\"bs\",\"bs\",\"bs\",\"bs\",\"bs\",\"bs\",\"bs\",\"bs\",\"bs\",\"bs\",\"bs\",\"bs\",\"bs\",\"bs\",\"bs\",\"bs\",\"bs\",\"bs\",\"bs\",\"bs\",\"bs\",\"bs\",\"bs\",\"bs\",\"bs\",\"bs\",\"bs\",\"bs\",\"bs\",\"bs\",\"bs\",\"bs\",\"bs\",\"bs\",\"bs\",\"bs\",\"bs\",\"bs\",\"bs\",\"bs\",\"bs\",\"bs\",\"bs\",\"bs\",\"bs\",\"bs\",\"bs\",\"bs\",\"bs\",\"bs\",\"bs\",\"bs\",\"bs\",\"bs\",\"bs\",\"bs\",\"bs\",\"bs\",\"bs\",\"bs\",\"bs\",\"bs\",\"bs\",\"conspiracy\",\"conspiracy\",\"conspiracy\",\"conspiracy\",\"conspiracy\",\"conspiracy\",\"conspiracy\",\"conspiracy\",\"conspiracy\",\"conspiracy\",\"conspiracy\",\"conspiracy\",\"conspiracy\",\"conspiracy\",\"conspiracy\",\"conspiracy\",\"conspiracy\",\"conspiracy\",\"conspiracy\",\"conspiracy\",\"conspiracy\",\"conspiracy\",\"conspiracy\",\"conspiracy\",\"conspiracy\",\"conspiracy\",\"conspiracy\",\"conspiracy\",\"conspiracy\",\"conspiracy\",\"conspiracy\",\"conspiracy\",\"conspiracy\",\"conspiracy\",\"conspiracy\",\"conspiracy\",\"conspiracy\",\"conspiracy\",\"conspiracy\",\"conspiracy\",\"conspiracy\",\"conspiracy\",\"conspiracy\",\"conspiracy\",\"conspiracy\",\"conspiracy\",\"conspiracy\",\"conspiracy\",\"conspiracy\",\"conspiracy\",\"conspiracy\",\"conspiracy\",\"conspiracy\",\"conspiracy\",\"conspiracy\",\"conspiracy\",\"conspiracy\",\"conspiracy\",\"conspiracy\",\"conspiracy\",\"conspiracy\",\"conspiracy\",\"conspiracy\",\"conspiracy\",\"conspiracy\",\"conspiracy\",\"conspiracy\",\"conspiracy\",\"conspiracy\",\"conspiracy\",\"conspiracy\",\"conspiracy\",\"conspiracy\",\"conspiracy\",\"conspiracy\",\"conspiracy\",\"conspiracy\",\"conspiracy\",\"conspiracy\",\"conspiracy\",\"conspiracy\",\"conspiracy\",\"conspiracy\",\"conspiracy\",\"conspiracy\",\"conspiracy\",\"conspiracy\",\"conspiracy\",\"conspiracy\",\"conspiracy\",\"conspiracy\",\"conspiracy\",\"conspiracy\",\"conspiracy\",\"conspiracy\",\"conspiracy\",\"conspiracy\",\"conspiracy\",\"conspiracy\",\"conspiracy\",\"bs\",\"satire\",\"satire\",\"satire\",\"satire\",\"satire\",\"satire\",\"satire\",\"satire\",\"satire\",\"satire\",\"satire\",\"satire\",\"satire\",\"satire\",\"satire\",\"satire\",\"satire\",\"satire\",\"satire\",\"satire\",\"satire\",\"satire\",\"satire\",\"satire\",\"satire\",\"satire\",\"satire\",\"satire\",\"satire\",\"satire\",\"satire\",\"satire\",\"satire\",\"satire\",\"satire\",\"satire\",\"satire\",\"satire\",\"satire\",\"satire\",\"satire\",\"satire\",\"satire\",\"satire\",\"satire\",\"satire\",\"satire\",\"satire\",\"satire\",\"satire\",\"satire\",\"satire\",\"satire\",\"satire\",\"satire\",\"satire\",\"satire\",\"satire\",\"satire\",\"satire\",\"satire\",\"satire\",\"satire\",\"satire\",\"satire\",\"satire\",\"satire\",\"satire\",\"satire\",\"satire\",\"satire\",\"satire\",\"satire\",\"satire\",\"satire\",\"satire\",\"satire\",\"satire\",\"satire\",\"satire\",\"satire\",\"satire\",\"satire\",\"satire\",\"satire\",\"satire\",\"satire\",\"satire\",\"satire\",\"satire\",\"satire\",\"satire\",\"satire\",\"satire\",\"satire\",\"satire\",\"satire\",\"satire\",\"satire\",\"satire\",\"bs\",\"bs\",\"bs\",\"bs\",\"bs\",\"bs\",\"bs\",\"bs\",\"bs\",\"bs\",\"bs\",\"bs\",\"bs\",\"bs\",\"bs\",\"bs\",\"bs\",\"bs\",\"bs\",\"bs\",\"bs\",\"bs\",\"bs\",\"bs\",\"bs\",\"bs\",\"bs\",\"bs\",\"bs\",\"bs\",\"bs\",\"bs\",\"bs\",\"bs\",\"bs\",\"bs\",\"bs\",\"bs\",\"bias\",\"bias\",\"bias\",\"bias\",\"bias\",\"bias\",\"bias\",\"bias\",\"bias\",\"bias\",\"bias\",\"bias\",\"bias\",\"bias\",\"bias\",\"bias\",\"bias\",\"bias\",\"bias\",\"bias\",\"bias\",\"bias\",\"bias\",\"bias\",\"bias\",\"bias\",\"bias\",\"bias\",\"bias\",\"bias\",\"bias\",\"bias\",\"bias\",\"bias\",\"bias\",\"bias\",\"bias\",\"bias\",\"bias\",\"bias\",\"bias\",\"bias\",\"bias\",\"bias\",\"bias\",\"bias\",\"bias\",\"bias\",\"bias\",\"bias\",\"bias\",\"bias\",\"bias\",\"bias\",\"bias\",\"bias\",\"bias\",\"bias\",\"bias\",\"bias\",\"bias\",\"bias\",\"bias\",\"bias\",\"bias\",\"bias\",\"bias\",\"bias\",\"bias\",\"bias\",\"bias\",\"bias\",\"bias\",\"bias\",\"bias\",\"bias\",\"bias\",\"bias\",\"bias\",\"bias\",\"bias\",\"bs\",\"bs\",\"bs\",\"bs\",\"bs\",\"bs\",\"bs\",\"bs\",\"bs\",\"hate\",\"hate\",\"hate\",\"hate\",\"hate\",\"hate\",\"hate\",\"hate\",\"hate\",\"hate\",\"hate\",\"hate\",\"hate\",\"hate\",\"hate\",\"hate\",\"hate\",\"hate\",\"hate\",\"hate\",\"hate\",\"hate\",\"hate\",\"hate\",\"hate\",\"hate\",\"hate\",\"hate\",\"hate\",\"hate\",\"hate\",\"hate\",\"hate\",\"hate\",\"hate\",\"hate\",\"hate\",\"hate\",\"hate\",\"hate\",\"hate\",\"hate\",\"hate\",\"hate\",\"bs\",\"bs\",\"bs\",\"bs\",\"bs\",\"bs\",\"bs\",\"junksci\",\"junksci\",\"bs\",\"bs\",\"bs\",\"bs\",\"bs\",\"bs\",\"bs\",\"bs\",\"bs\",\"bs\",\"bs\",\"bs\",\"bs\",\"bs\",\"bs\",\"bs\",\"bs\",\"bs\",\"bs\",\"bs\",\"bs\",\"bs\",\"bs\",\"bs\",\"bs\",\"bs\",\"bs\",\"bs\",\"bs\",\"bs\",\"bs\",\"bs\",\"bs\",\"bs\",\"bs\",\"bs\",\"bs\",\"bs\",\"bs\",\"bs\",\"bs\",\"bs\",\"bs\",\"bs\",\"bs\",\"bs\",\"bs\",\"bs\",\"bs\",\"bs\",\"bs\",\"bs\",\"bs\",\"bs\",\"bs\",\"bs\",\"bs\",\"bs\",\"bs\",\"bs\",\"bs\",\"bs\",\"bs\",\"bs\",\"bs\",\"bs\",\"bs\",\"bs\",\"bs\",\"bs\",\"bs\",\"bs\",\"bs\",\"bs\",\"bs\",\"bs\",\"bs\",\"bs\",\"bs\",\"bs\",\"bs\",\"bs\",\"bs\",\"bs\",\"bs\",\"bs\",\"bs\",\"bs\",\"bs\",\"bs\",\"bs\",\"bs\",\"bs\",\"bs\",\"bs\",\"bs\",\"bs\",\"bs\",\"bs\",\"bs\",\"bs\",\"bs\",\"bs\",\"bs\",\"bs\",\"bs\",\"bs\",\"bs\",\"bs\",\"bs\",\"bs\",\"bs\",\"bs\",\"bs\",\"bs\",\"bs\",\"bs\",\"bs\",\"bs\",\"bs\",\"bs\",\"bs\",\"bs\",\"bs\",\"bs\",\"bs\",\"bs\",\"bs\",\"bs\",\"bs\",\"bs\",\"bs\",\"bs\",\"bs\",\"bs\",\"bs\",\"bs\",\"bs\",\"bs\",\"bs\",\"bs\",\"bs\",\"bs\",\"bs\",\"bs\",\"bs\",\"bs\",\"bs\",\"bs\",\"bs\",\"bs\",\"bs\",\"bs\",\"bs\",\"bs\",\"bs\",\"bs\",\"bs\",\"bs\",\"bs\",\"bs\",\"bs\",\"bs\",\"bs\",\"bs\",\"bs\",\"bs\",\"bs\",\"bs\",\"hate\",\"hate\",\"hate\",\"hate\",\"hate\",\"hate\",\"hate\",\"hate\",\"hate\",\"hate\",\"hate\",\"hate\",\"hate\",\"hate\",\"hate\",\"hate\",\"hate\",\"hate\",\"hate\",\"hate\",\"hate\",\"hate\",\"hate\",\"hate\",\"hate\",\"hate\",\"hate\",\"hate\",\"hate\",\"hate\",\"hate\",\"hate\",\"hate\",\"hate\",\"hate\",\"hate\",\"hate\",\"hate\",\"hate\",\"hate\",\"hate\",\"hate\",\"hate\",\"hate\",\"hate\",\"hate\",\"hate\",\"hate\",\"hate\",\"hate\",\"hate\",\"hate\",\"hate\",\"hate\",\"hate\",\"hate\",\"hate\",\"hate\",\"hate\",\"hate\",\"hate\",\"hate\",\"hate\",\"hate\",\"hate\",\"hate\",\"hate\",\"hate\",\"hate\",\"hate\",\"hate\",\"hate\",\"hate\",\"hate\",\"hate\",\"hate\",\"hate\",\"hate\",\"hate\",\"hate\",\"hate\",\"hate\",\"hate\",\"hate\",\"hate\",\"hate\",\"hate\",\"hate\",\"hate\",\"hate\",\"hate\",\"hate\",\"hate\",\"hate\",\"hate\",\"hate\",\"hate\",\"hate\",\"hate\",\"hate\",\"bs\",\"bs\",\"bs\",\"bs\",\"bs\",\"conspiracy\",\"conspiracy\",\"conspiracy\",\"conspiracy\",\"conspiracy\",\"conspiracy\",\"conspiracy\",\"conspiracy\",\"conspiracy\",\"conspiracy\",\"conspiracy\",\"conspiracy\",\"conspiracy\",\"conspiracy\",\"conspiracy\",\"conspiracy\",\"conspiracy\",\"conspiracy\",\"conspiracy\",\"conspiracy\",\"conspiracy\",\"conspiracy\",\"conspiracy\",\"conspiracy\",\"conspiracy\",\"conspiracy\",\"conspiracy\",\"conspiracy\",\"conspiracy\",\"conspiracy\",\"conspiracy\",\"conspiracy\",\"conspiracy\",\"conspiracy\",\"conspiracy\",\"conspiracy\",\"conspiracy\",\"conspiracy\",\"conspiracy\",\"conspiracy\",\"conspiracy\",\"conspiracy\",\"conspiracy\",\"conspiracy\",\"conspiracy\",\"conspiracy\",\"conspiracy\",\"conspiracy\",\"conspiracy\",\"conspiracy\",\"conspiracy\",\"conspiracy\",\"conspiracy\",\"conspiracy\",\"conspiracy\",\"conspiracy\",\"conspiracy\",\"conspiracy\",\"conspiracy\",\"conspiracy\",\"conspiracy\",\"conspiracy\",\"conspiracy\",\"conspiracy\",\"conspiracy\",\"conspiracy\",\"conspiracy\",\"conspiracy\",\"conspiracy\",\"conspiracy\",\"conspiracy\",\"conspiracy\",\"conspiracy\",\"conspiracy\",\"conspiracy\",\"conspiracy\",\"conspiracy\",\"conspiracy\",\"conspiracy\",\"conspiracy\",\"conspiracy\",\"conspiracy\",\"conspiracy\",\"conspiracy\",\"conspiracy\",\"conspiracy\",\"conspiracy\",\"conspiracy\",\"conspiracy\",\"conspiracy\",\"conspiracy\",\"conspiracy\",\"conspiracy\",\"conspiracy\",\"conspiracy\",\"conspiracy\",\"conspiracy\",\"conspiracy\",\"conspiracy\",\"conspiracy\",\"conspiracy\",\"bs\",\"satire\",\"satire\",\"satire\",\"satire\",\"satire\",\"satire\",\"satire\",\"satire\",\"satire\",\"satire\",\"satire\",\"satire\",\"satire\",\"satire\",\"satire\",\"satire\",\"satire\",\"satire\",\"satire\",\"satire\",\"satire\",\"satire\",\"satire\",\"satire\",\"satire\",\"satire\",\"satire\",\"satire\",\"satire\",\"satire\",\"satire\",\"satire\",\"satire\",\"satire\",\"satire\",\"satire\",\"satire\",\"satire\",\"satire\",\"satire\",\"satire\",\"satire\",\"satire\",\"satire\",\"satire\",\"satire\",\"bs\",\"junksci\",\"junksci\",\"junksci\",\"junksci\",\"junksci\",\"junksci\",\"junksci\",\"junksci\",\"junksci\",\"junksci\",\"junksci\",\"junksci\",\"junksci\",\"junksci\",\"junksci\",\"junksci\",\"junksci\",\"junksci\",\"junksci\",\"junksci\",\"junksci\",\"junksci\",\"junksci\",\"junksci\",\"junksci\",\"junksci\",\"junksci\",\"junksci\",\"junksci\",\"junksci\",\"junksci\",\"junksci\",\"junksci\",\"junksci\",\"junksci\",\"junksci\",\"junksci\",\"junksci\",\"junksci\",\"junksci\",\"junksci\",\"junksci\",\"junksci\",\"junksci\",\"junksci\",\"junksci\",\"junksci\",\"junksci\",\"junksci\",\"junksci\",\"junksci\",\"junksci\",\"junksci\",\"junksci\",\"junksci\",\"junksci\",\"junksci\",\"junksci\",\"junksci\",\"junksci\",\"junksci\",\"junksci\",\"junksci\",\"junksci\",\"junksci\",\"junksci\",\"junksci\",\"junksci\",\"junksci\",\"junksci\",\"junksci\",\"junksci\",\"junksci\",\"junksci\",\"junksci\",\"junksci\",\"junksci\",\"junksci\",\"junksci\",\"junksci\",\"junksci\",\"junksci\",\"junksci\",\"junksci\",\"junksci\",\"junksci\",\"junksci\",\"junksci\",\"junksci\",\"junksci\",\"junksci\",\"junksci\",\"junksci\",\"junksci\",\"junksci\",\"junksci\",\"junksci\",\"junksci\",\"junksci\",\"junksci\",\"conspiracy\",\"conspiracy\",\"conspiracy\",\"conspiracy\",\"conspiracy\",\"bias\",\"bias\",\"bias\",\"bias\",\"bias\",\"bias\",\"bias\",\"bias\",\"bias\",\"bias\",\"bias\",\"bias\",\"bias\",\"bias\",\"bias\",\"bias\",\"bias\",\"bias\",\"bias\",\"bias\",\"bias\",\"bias\",\"bias\",\"bias\",\"bias\",\"bias\",\"bias\",\"bias\",\"bias\",\"bias\",\"bias\",\"bias\",\"bias\",\"bias\",\"bias\",\"bias\",\"bias\",\"bias\",\"bias\",\"bias\",\"bias\",\"bias\",\"bias\",\"bias\",\"bias\",\"bias\",\"bias\",\"bias\",\"bias\",\"bias\",\"bias\",\"bias\",\"bias\",\"bias\",\"bias\",\"bias\",\"bias\",\"bias\",\"bias\",\"bias\",\"bias\",\"bias\",\"bias\",\"bias\",\"bias\",\"bias\",\"bias\",\"bias\",\"bias\",\"bias\",\"bias\",\"bias\",\"bias\",\"bias\",\"bias\",\"bias\",\"bias\",\"bias\",\"bias\",\"bias\",\"bias\",\"bias\",\"bias\",\"bias\",\"bias\",\"bias\",\"bias\",\"bias\",\"bias\",\"bias\",\"bias\",\"bias\",\"bias\",\"bias\",\"bias\",\"bias\",\"bias\",\"bias\",\"bias\",\"bias\",\"state\",\"state\",\"state\",\"state\",\"state\",\"state\",\"state\",\"state\",\"state\",\"state\",\"state\",\"state\",\"state\",\"state\",\"state\",\"state\",\"state\",\"state\",\"state\",\"state\",\"state\",\"state\",\"state\",\"state\",\"state\",\"state\",\"state\",\"state\",\"state\",\"state\",\"state\",\"state\",\"state\",\"state\",\"state\",\"state\",\"state\",\"state\",\"state\",\"state\",\"state\",\"state\",\"state\",\"state\",\"state\",\"state\",\"state\",\"state\",\"state\",\"state\",\"state\",\"state\",\"state\",\"state\",\"state\",\"state\",\"state\",\"state\",\"state\",\"state\",\"state\",\"state\",\"state\",\"state\",\"state\",\"state\",\"state\",\"state\",\"state\",\"state\",\"state\",\"state\",\"state\",\"state\",\"state\",\"state\",\"state\",\"state\",\"state\",\"state\",\"state\",\"state\",\"state\",\"state\",\"state\",\"state\",\"state\",\"state\",\"state\",\"state\",\"state\",\"state\",\"state\",\"state\",\"state\",\"state\",\"state\",\"state\",\"state\",\"state\",\"state\",\"state\",\"state\",\"state\",\"state\",\"state\",\"state\",\"state\",\"state\",\"state\",\"state\",\"state\",\"state\",\"state\",\"state\",\"state\",\"state\",\"state\",\"state\",\"state\",\"state\",\"conspiracy\",\"conspiracy\",\"conspiracy\",\"conspiracy\",\"conspiracy\",\"conspiracy\",\"conspiracy\",\"conspiracy\",\"conspiracy\",\"conspiracy\",\"conspiracy\",\"conspiracy\",\"conspiracy\",\"conspiracy\",\"conspiracy\",\"conspiracy\",\"conspiracy\",\"conspiracy\",\"conspiracy\",\"conspiracy\",\"conspiracy\",\"conspiracy\",\"conspiracy\",\"conspiracy\",\"conspiracy\",\"conspiracy\",\"conspiracy\",\"conspiracy\",\"conspiracy\",\"conspiracy\",\"conspiracy\",\"conspiracy\",\"conspiracy\",\"conspiracy\",\"conspiracy\",\"conspiracy\",\"conspiracy\",\"conspiracy\",\"conspiracy\",\"conspiracy\",\"conspiracy\",\"conspiracy\",\"conspiracy\",\"conspiracy\",\"conspiracy\",\"conspiracy\",\"conspiracy\",\"conspiracy\",\"conspiracy\",\"conspiracy\",\"conspiracy\",\"conspiracy\",\"conspiracy\",\"conspiracy\",\"conspiracy\",\"conspiracy\",\"conspiracy\",\"conspiracy\",\"conspiracy\",\"conspiracy\",\"conspiracy\",\"conspiracy\",\"conspiracy\",\"conspiracy\",\"conspiracy\",\"conspiracy\",\"conspiracy\",\"conspiracy\",\"conspiracy\",\"conspiracy\",\"conspiracy\",\"conspiracy\",\"conspiracy\",\"conspiracy\",\"conspiracy\",\"conspiracy\",\"conspiracy\",\"conspiracy\",\"conspiracy\",\"conspiracy\",\"conspiracy\",\"conspiracy\",\"conspiracy\",\"conspiracy\",\"conspiracy\",\"conspiracy\",\"conspiracy\",\"conspiracy\",\"conspiracy\",\"conspiracy\",\"conspiracy\",\"conspiracy\",\"conspiracy\",\"conspiracy\",\"conspiracy\",\"conspiracy\",\"conspiracy\",\"conspiracy\",\"conspiracy\",\"conspiracy\",\"bias\",\"bs\",\"bias\",\"hate\",\"hate\",\"hate\",\"hate\",\"hate\",\"hate\",\"hate\",\"hate\",\"hate\",\"hate\",\"hate\",\"hate\",\"hate\",\"hate\",\"hate\",\"hate\",\"hate\",\"hate\",\"hate\",\"hate\",\"hate\",\"hate\",\"hate\",\"hate\",\"hate\",\"hate\",\"hate\",\"hate\",\"hate\",\"hate\",\"hate\",\"hate\",\"hate\",\"hate\",\"hate\",\"hate\",\"hate\",\"hate\",\"hate\",\"hate\",\"hate\",\"hate\",\"hate\",\"hate\",\"hate\",\"hate\",\"hate\",\"hate\",\"hate\",\"hate\",\"hate\",\"hate\",\"hate\",\"hate\",\"hate\",\"hate\",\"hate\",\"hate\",\"hate\",\"hate\",\"hate\",\"hate\",\"hate\",\"hate\",\"hate\",\"hate\",\"hate\",\"hate\",\"hate\",\"hate\",\"hate\",\"hate\",\"hate\",\"hate\",\"hate\",\"hate\",\"hate\",\"hate\",\"hate\",\"hate\",\"hate\",\"hate\",\"hate\",\"hate\",\"hate\",\"hate\",\"hate\",\"hate\",\"hate\",\"hate\",\"hate\",\"hate\",\"hate\",\"hate\",\"hate\",\"hate\",\"hate\",\"hate\",\"hate\",\"hate\",\"bs\",\"bs\",\"bs\",\"bs\",\"bs\",\"bs\",\"bs\",\"bs\",\"bs\",\"bs\",\"bs\",\"bs\",\"bs\",\"bs\",\"bs\",\"bs\",\"bs\",\"bs\",\"bs\",\"bs\",\"bs\",\"bs\",\"bs\",\"bs\",\"bs\",\"bs\",\"bs\",\"bs\",\"bs\",\"bs\",\"bs\",\"bs\",\"bs\",\"bs\",\"bs\",\"bs\",\"bs\",\"bs\",\"bs\",\"bs\",\"bs\",\"bs\",\"bs\",\"bs\",\"bs\",\"bs\",\"bs\",\"bs\",\"bs\",\"bs\",\"bs\",\"bs\",\"bs\",\"bs\",\"bs\",\"bs\",\"bs\",\"bs\",\"bs\",\"bs\",\"bs\",\"bs\",\"bias\",\"bias\",\"bias\",\"bias\",\"bias\",\"bias\",\"bias\",\"bias\",\"bias\",\"bias\",\"bias\",\"bias\",\"bias\",\"bias\",\"bias\",\"bias\",\"bias\",\"bias\",\"bias\",\"bias\",\"bias\",\"bias\",\"bias\",\"bias\",\"bias\",\"bias\",\"bias\",\"bias\",\"bias\",\"bias\",\"bias\",\"bias\",\"bias\",\"bias\",\"bias\",\"bias\",\"bias\",\"bias\",\"bias\",\"bias\",\"bias\",\"bias\",\"bias\",\"bias\",\"bias\",\"bias\",\"bias\",\"bias\",\"bias\",\"bias\",\"bias\",\"bias\",\"bias\",\"bias\",\"bias\",\"bias\",\"bias\",\"bias\",\"bias\",\"bias\",\"bias\",\"bias\",\"bias\",\"bias\",\"bias\",\"bias\",\"bias\",\"bias\",\"bias\",\"bias\",\"bias\",\"bias\",\"bias\",\"bias\",\"bias\",\"bias\",\"bias\",\"bias\",\"bias\",\"bias\",\"bias\",\"bias\",\"bias\",\"bias\",\"bias\",\"bias\",\"bias\",\"bias\",\"bias\",\"bias\",\"bias\",\"bias\",\"bias\",\"bias\",\"bias\",\"bias\",\"bias\",\"bias\",\"bias\",\"bias\",\"bs\",\"bs\",\"bs\",\"bs\",\"bs\",\"bs\",\"bs\",\"bs\",\"bs\",\"bs\",\"bs\",\"bs\",\"bias\",\"bias\",\"bias\",\"bias\",\"bias\",\"bias\",\"bias\",\"bias\",\"bias\",\"bias\",\"bias\",\"bias\",\"bias\",\"bias\",\"bias\",\"bias\",\"bias\",\"bias\",\"bias\",\"bias\",\"bias\",\"bias\",\"bias\",\"bias\",\"bias\",\"bias\",\"bias\",\"bias\",\"bias\",\"bias\",\"bias\",\"bias\",\"bias\",\"bias\",\"bias\",\"bias\",\"bias\",\"bias\",\"bias\",\"bias\",\"bias\",\"bias\",\"bias\",\"bias\",\"bias\",\"bias\",\"bias\",\"bias\",\"bias\",\"bias\",\"bias\",\"bias\",\"bias\"],\"legendgroup\":\"\",\"name\":\"\",\"showlegend\":true,\"type\":\"pie\"}],                        {\"template\":{\"data\":{\"bar\":[{\"error_x\":{\"color\":\"#2a3f5f\"},\"error_y\":{\"color\":\"#2a3f5f\"},\"marker\":{\"line\":{\"color\":\"#E5ECF6\",\"width\":0.5},\"pattern\":{\"fillmode\":\"overlay\",\"size\":10,\"solidity\":0.2}},\"type\":\"bar\"}],\"barpolar\":[{\"marker\":{\"line\":{\"color\":\"#E5ECF6\",\"width\":0.5},\"pattern\":{\"fillmode\":\"overlay\",\"size\":10,\"solidity\":0.2}},\"type\":\"barpolar\"}],\"carpet\":[{\"aaxis\":{\"endlinecolor\":\"#2a3f5f\",\"gridcolor\":\"white\",\"linecolor\":\"white\",\"minorgridcolor\":\"white\",\"startlinecolor\":\"#2a3f5f\"},\"baxis\":{\"endlinecolor\":\"#2a3f5f\",\"gridcolor\":\"white\",\"linecolor\":\"white\",\"minorgridcolor\":\"white\",\"startlinecolor\":\"#2a3f5f\"},\"type\":\"carpet\"}],\"choropleth\":[{\"colorbar\":{\"outlinewidth\":0,\"ticks\":\"\"},\"type\":\"choropleth\"}],\"contour\":[{\"colorbar\":{\"outlinewidth\":0,\"ticks\":\"\"},\"colorscale\":[[0.0,\"#0d0887\"],[0.1111111111111111,\"#46039f\"],[0.2222222222222222,\"#7201a8\"],[0.3333333333333333,\"#9c179e\"],[0.4444444444444444,\"#bd3786\"],[0.5555555555555556,\"#d8576b\"],[0.6666666666666666,\"#ed7953\"],[0.7777777777777778,\"#fb9f3a\"],[0.8888888888888888,\"#fdca26\"],[1.0,\"#f0f921\"]],\"type\":\"contour\"}],\"contourcarpet\":[{\"colorbar\":{\"outlinewidth\":0,\"ticks\":\"\"},\"type\":\"contourcarpet\"}],\"heatmap\":[{\"colorbar\":{\"outlinewidth\":0,\"ticks\":\"\"},\"colorscale\":[[0.0,\"#0d0887\"],[0.1111111111111111,\"#46039f\"],[0.2222222222222222,\"#7201a8\"],[0.3333333333333333,\"#9c179e\"],[0.4444444444444444,\"#bd3786\"],[0.5555555555555556,\"#d8576b\"],[0.6666666666666666,\"#ed7953\"],[0.7777777777777778,\"#fb9f3a\"],[0.8888888888888888,\"#fdca26\"],[1.0,\"#f0f921\"]],\"type\":\"heatmap\"}],\"heatmapgl\":[{\"colorbar\":{\"outlinewidth\":0,\"ticks\":\"\"},\"colorscale\":[[0.0,\"#0d0887\"],[0.1111111111111111,\"#46039f\"],[0.2222222222222222,\"#7201a8\"],[0.3333333333333333,\"#9c179e\"],[0.4444444444444444,\"#bd3786\"],[0.5555555555555556,\"#d8576b\"],[0.6666666666666666,\"#ed7953\"],[0.7777777777777778,\"#fb9f3a\"],[0.8888888888888888,\"#fdca26\"],[1.0,\"#f0f921\"]],\"type\":\"heatmapgl\"}],\"histogram\":[{\"marker\":{\"pattern\":{\"fillmode\":\"overlay\",\"size\":10,\"solidity\":0.2}},\"type\":\"histogram\"}],\"histogram2d\":[{\"colorbar\":{\"outlinewidth\":0,\"ticks\":\"\"},\"colorscale\":[[0.0,\"#0d0887\"],[0.1111111111111111,\"#46039f\"],[0.2222222222222222,\"#7201a8\"],[0.3333333333333333,\"#9c179e\"],[0.4444444444444444,\"#bd3786\"],[0.5555555555555556,\"#d8576b\"],[0.6666666666666666,\"#ed7953\"],[0.7777777777777778,\"#fb9f3a\"],[0.8888888888888888,\"#fdca26\"],[1.0,\"#f0f921\"]],\"type\":\"histogram2d\"}],\"histogram2dcontour\":[{\"colorbar\":{\"outlinewidth\":0,\"ticks\":\"\"},\"colorscale\":[[0.0,\"#0d0887\"],[0.1111111111111111,\"#46039f\"],[0.2222222222222222,\"#7201a8\"],[0.3333333333333333,\"#9c179e\"],[0.4444444444444444,\"#bd3786\"],[0.5555555555555556,\"#d8576b\"],[0.6666666666666666,\"#ed7953\"],[0.7777777777777778,\"#fb9f3a\"],[0.8888888888888888,\"#fdca26\"],[1.0,\"#f0f921\"]],\"type\":\"histogram2dcontour\"}],\"mesh3d\":[{\"colorbar\":{\"outlinewidth\":0,\"ticks\":\"\"},\"type\":\"mesh3d\"}],\"parcoords\":[{\"line\":{\"colorbar\":{\"outlinewidth\":0,\"ticks\":\"\"}},\"type\":\"parcoords\"}],\"pie\":[{\"automargin\":true,\"type\":\"pie\"}],\"scatter\":[{\"marker\":{\"colorbar\":{\"outlinewidth\":0,\"ticks\":\"\"}},\"type\":\"scatter\"}],\"scatter3d\":[{\"line\":{\"colorbar\":{\"outlinewidth\":0,\"ticks\":\"\"}},\"marker\":{\"colorbar\":{\"outlinewidth\":0,\"ticks\":\"\"}},\"type\":\"scatter3d\"}],\"scattercarpet\":[{\"marker\":{\"colorbar\":{\"outlinewidth\":0,\"ticks\":\"\"}},\"type\":\"scattercarpet\"}],\"scattergeo\":[{\"marker\":{\"colorbar\":{\"outlinewidth\":0,\"ticks\":\"\"}},\"type\":\"scattergeo\"}],\"scattergl\":[{\"marker\":{\"colorbar\":{\"outlinewidth\":0,\"ticks\":\"\"}},\"type\":\"scattergl\"}],\"scattermapbox\":[{\"marker\":{\"colorbar\":{\"outlinewidth\":0,\"ticks\":\"\"}},\"type\":\"scattermapbox\"}],\"scatterpolar\":[{\"marker\":{\"colorbar\":{\"outlinewidth\":0,\"ticks\":\"\"}},\"type\":\"scatterpolar\"}],\"scatterpolargl\":[{\"marker\":{\"colorbar\":{\"outlinewidth\":0,\"ticks\":\"\"}},\"type\":\"scatterpolargl\"}],\"scatterternary\":[{\"marker\":{\"colorbar\":{\"outlinewidth\":0,\"ticks\":\"\"}},\"type\":\"scatterternary\"}],\"surface\":[{\"colorbar\":{\"outlinewidth\":0,\"ticks\":\"\"},\"colorscale\":[[0.0,\"#0d0887\"],[0.1111111111111111,\"#46039f\"],[0.2222222222222222,\"#7201a8\"],[0.3333333333333333,\"#9c179e\"],[0.4444444444444444,\"#bd3786\"],[0.5555555555555556,\"#d8576b\"],[0.6666666666666666,\"#ed7953\"],[0.7777777777777778,\"#fb9f3a\"],[0.8888888888888888,\"#fdca26\"],[1.0,\"#f0f921\"]],\"type\":\"surface\"}],\"table\":[{\"cells\":{\"fill\":{\"color\":\"#EBF0F8\"},\"line\":{\"color\":\"white\"}},\"header\":{\"fill\":{\"color\":\"#C8D4E3\"},\"line\":{\"color\":\"white\"}},\"type\":\"table\"}]},\"layout\":{\"annotationdefaults\":{\"arrowcolor\":\"#2a3f5f\",\"arrowhead\":0,\"arrowwidth\":1},\"autotypenumbers\":\"strict\",\"coloraxis\":{\"colorbar\":{\"outlinewidth\":0,\"ticks\":\"\"}},\"colorscale\":{\"diverging\":[[0,\"#8e0152\"],[0.1,\"#c51b7d\"],[0.2,\"#de77ae\"],[0.3,\"#f1b6da\"],[0.4,\"#fde0ef\"],[0.5,\"#f7f7f7\"],[0.6,\"#e6f5d0\"],[0.7,\"#b8e186\"],[0.8,\"#7fbc41\"],[0.9,\"#4d9221\"],[1,\"#276419\"]],\"sequential\":[[0.0,\"#0d0887\"],[0.1111111111111111,\"#46039f\"],[0.2222222222222222,\"#7201a8\"],[0.3333333333333333,\"#9c179e\"],[0.4444444444444444,\"#bd3786\"],[0.5555555555555556,\"#d8576b\"],[0.6666666666666666,\"#ed7953\"],[0.7777777777777778,\"#fb9f3a\"],[0.8888888888888888,\"#fdca26\"],[1.0,\"#f0f921\"]],\"sequentialminus\":[[0.0,\"#0d0887\"],[0.1111111111111111,\"#46039f\"],[0.2222222222222222,\"#7201a8\"],[0.3333333333333333,\"#9c179e\"],[0.4444444444444444,\"#bd3786\"],[0.5555555555555556,\"#d8576b\"],[0.6666666666666666,\"#ed7953\"],[0.7777777777777778,\"#fb9f3a\"],[0.8888888888888888,\"#fdca26\"],[1.0,\"#f0f921\"]]},\"colorway\":[\"#636efa\",\"#EF553B\",\"#00cc96\",\"#ab63fa\",\"#FFA15A\",\"#19d3f3\",\"#FF6692\",\"#B6E880\",\"#FF97FF\",\"#FECB52\"],\"font\":{\"color\":\"#2a3f5f\"},\"geo\":{\"bgcolor\":\"white\",\"lakecolor\":\"white\",\"landcolor\":\"#E5ECF6\",\"showlakes\":true,\"showland\":true,\"subunitcolor\":\"white\"},\"hoverlabel\":{\"align\":\"left\"},\"hovermode\":\"closest\",\"mapbox\":{\"style\":\"light\"},\"paper_bgcolor\":\"white\",\"plot_bgcolor\":\"#E5ECF6\",\"polar\":{\"angularaxis\":{\"gridcolor\":\"white\",\"linecolor\":\"white\",\"ticks\":\"\"},\"bgcolor\":\"#E5ECF6\",\"radialaxis\":{\"gridcolor\":\"white\",\"linecolor\":\"white\",\"ticks\":\"\"}},\"scene\":{\"xaxis\":{\"backgroundcolor\":\"#E5ECF6\",\"gridcolor\":\"white\",\"gridwidth\":2,\"linecolor\":\"white\",\"showbackground\":true,\"ticks\":\"\",\"zerolinecolor\":\"white\"},\"yaxis\":{\"backgroundcolor\":\"#E5ECF6\",\"gridcolor\":\"white\",\"gridwidth\":2,\"linecolor\":\"white\",\"showbackground\":true,\"ticks\":\"\",\"zerolinecolor\":\"white\"},\"zaxis\":{\"backgroundcolor\":\"#E5ECF6\",\"gridcolor\":\"white\",\"gridwidth\":2,\"linecolor\":\"white\",\"showbackground\":true,\"ticks\":\"\",\"zerolinecolor\":\"white\"}},\"shapedefaults\":{\"line\":{\"color\":\"#2a3f5f\"}},\"ternary\":{\"aaxis\":{\"gridcolor\":\"white\",\"linecolor\":\"white\",\"ticks\":\"\"},\"baxis\":{\"gridcolor\":\"white\",\"linecolor\":\"white\",\"ticks\":\"\"},\"bgcolor\":\"#E5ECF6\",\"caxis\":{\"gridcolor\":\"white\",\"linecolor\":\"white\",\"ticks\":\"\"}},\"title\":{\"x\":0.05},\"xaxis\":{\"automargin\":true,\"gridcolor\":\"white\",\"linecolor\":\"white\",\"ticks\":\"\",\"title\":{\"standoff\":15},\"zerolinecolor\":\"white\",\"zerolinewidth\":2},\"yaxis\":{\"automargin\":true,\"gridcolor\":\"white\",\"linecolor\":\"white\",\"ticks\":\"\",\"title\":{\"standoff\":15},\"zerolinecolor\":\"white\",\"zerolinewidth\":2}}},\"legend\":{\"tracegroupgap\":0},\"title\":{\"text\":\"Types of Articles\"}},                        {\"responsive\": true}                    ).then(function(){\n",
       "                            \n",
       "var gd = document.getElementById('44ba2c62-9209-4cb5-9ed3-cc0a6f9b7f0e');\n",
       "var x = new MutationObserver(function (mutations, observer) {{\n",
       "        var display = window.getComputedStyle(gd).display;\n",
       "        if (!display || display === 'none') {{\n",
       "            console.log([gd, 'removed!']);\n",
       "            Plotly.purge(gd);\n",
       "            observer.disconnect();\n",
       "        }}\n",
       "}});\n",
       "\n",
       "// Listen for the removal of the full notebook cells\n",
       "var notebookContainer = gd.closest('#notebook-container');\n",
       "if (notebookContainer) {{\n",
       "    x.observe(notebookContainer, {childList: true});\n",
       "}}\n",
       "\n",
       "// Listen for the clearing of the current output cell\n",
       "var outputEl = gd.closest('.output');\n",
       "if (outputEl) {{\n",
       "    x.observe(outputEl, {childList: true});\n",
       "}}\n",
       "\n",
       "                        })                };                });            </script>        </div>"
      ]
     },
     "metadata": {},
     "output_type": "display_data"
    }
   ],
   "source": [
    "#Q2 : What is the news type?\n",
    "\n",
    "import plotly.express as px\n",
    "fig = px.pie(dfnews,names='type',title='Types of Articles')\n",
    "fig.show()"
   ]
  },
  {
   "cell_type": "code",
   "execution_count": 209,
   "id": "f7Nngy_nqyKj",
   "metadata": {
    "colab": {
     "base_uri": "https://localhost:8080/",
     "height": 410
    },
    "id": "f7Nngy_nqyKj",
    "outputId": "4ba3a12e-509e-4034-8374-f59249855231"
   },
   "outputs": [
    {
     "data": {
      "image/png": "[encoded data removed]",
      "text/plain": [
       "<Figure size 720x360 with 1 Axes>"
      ]
     },
     "metadata": {},
     "output_type": "display_data"
    }
   ],
   "source": [
    "from wordcloud import WordCloud \n",
    "wc = WordCloud(background_color=\"white\", max_words=100,\n",
    "               max_font_size=256,\n",
    "               random_state=42, width=1000, height=1000)\n",
    "wc.generate(' '.join(dfnews['text_without_stopwords']))\n",
    "plt.imshow(wc)\n",
    "plt.axis('off')\n",
    "plt.show()"
   ]
  },
  {
   "cell_type": "code",
   "execution_count": 210,
   "id": "42eb60d9",
   "metadata": {
    "colab": {
     "base_uri": "https://localhost:8080/",
     "height": 360
    },
    "id": "42eb60d9",
    "outputId": "7e0e0c96-a2c9-4a76-8fa8-8fe8ffaec17a"
   },
   "outputs": [
    {
     "data": {
      "image/png": "[encoded data removed]",
      "text/plain": [
       "<Figure size 720x360 with 1 Axes>"
      ]
     },
     "metadata": {},
     "output_type": "display_data"
    }
   ],
   "source": [
    "# What is the Languages in the dataset?\n",
    "sns.set_theme(style=\"whitegrid\")\n",
    "ax = sns.countplot(x=\"language\", data=dfnews, palette=['#cd0049','#e9ecec'])\n",
    "ax.set_title(\"Count of Languages of the news\",fontdict = {'fontsize': 18},weight = 'bold');\n",
    "plt.xlabel('Languages ',fontdict = {'fontsize': 16},weight = 'bold');\n",
    "plt.ylabel('Count',fontdict = {'fontsize': 16},weight = 'bold');\n",
    "\n",
    "sns.set(rc={'figure.figsize':(25,12)})\n",
    "\n"
   ]
  },
  {
   "cell_type": "code",
   "execution_count": 211,
   "id": "577894a7",
   "metadata": {
    "colab": {
     "base_uri": "https://localhost:8080/"
    },
    "id": "577894a7",
    "outputId": "b2327bd3-191b-4112-e812-c5ca5ba729f9"
   },
   "outputs": [
    {
     "data": {
      "text/plain": [
       "bs            598\n",
       "conspiracy    430\n",
       "bias          389\n",
       "hate          244\n",
       "satire        146\n",
       "state         121\n",
       "junksci       102\n",
       "fake           15\n",
       "Name: type, dtype: int64"
      ]
     },
     "execution_count": 211,
     "metadata": {},
     "output_type": "execute_result"
    }
   ],
   "source": [
    "dfnews['type'].value_counts()"
   ]
  },
  {
   "cell_type": "code",
   "execution_count": 212,
   "id": "e0e44c93",
   "metadata": {
    "colab": {
     "base_uri": "https://localhost:8080/",
     "height": 742
    },
    "id": "e0e44c93",
    "outputId": "206d3210-5650-4390-bea4-bb5f583a5d90"
   },
   "outputs": [
    {
     "data": {
      "image/png": "[encoded data removed]",
      "text/plain": [
       "<Figure size 1800x864 with 1 Axes>"
      ]
     },
     "metadata": {},
     "output_type": "display_data"
    }
   ],
   "source": [
    "#plot to see Counts of type of news data\n",
    "sns.set_theme(style=\"whitegrid\")\n",
    "ax = sns.countplot(x=\"type\", data=dfnews, palette=['#cd0049','#e9ecec'])\n",
    "ax.set_title(\"Count of Type of the news\",fontdict = {'fontsize': 18},weight = 'bold');\n",
    "plt.xlabel('Type ',fontdict = {'fontsize': 16},weight = 'bold');\n",
    "plt.ylabel('Count',fontdict = {'fontsize': 16},weight = 'bold');\n",
    "\n"
   ]
  },
  {
   "cell_type": "code",
   "execution_count": 213,
   "id": "bf7568ec",
   "metadata": {
    "colab": {
     "base_uri": "https://localhost:8080/",
     "height": 743
    },
    "id": "bf7568ec",
    "outputId": "2853af04-efd0-4901-8c8c-c1e4ae313aa9"
   },
   "outputs": [
    {
     "data": {
      "image/png": "[encoded data removed]",
      "text/plain": [
       "<Figure size 1800x864 with 1 Axes>"
      ]
     },
     "metadata": {},
     "output_type": "display_data"
    }
   ],
   "source": [
    "# Who is the top 5 author with the highest news?\n",
    "\n",
    "sns.set_theme(style=\"whitegrid\")\n",
    "ax = sns.countplot(y=\"author\", data=dfnews, palette=['#cd0049','#e9ecec','#92ffd8','#ffcec5','#c5f6ff'\n",
    "                                                 ], order =dfnews.author.value_counts().iloc[:5].index)\n",
    "\n",
    "ax.set_title(\"Top 5 Authors with count of news\",fontdict = {'fontsize': 19},weight = 'bold')\n",
    "\n",
    "plt.xlabel('Count',fontdict = {'fontsize': 16},weight = 'bold');\n",
    "plt.ylabel('Author',fontdict = {'fontsize': 16},weight = 'bold');\n",
    "\n",
    "\n",
    "sns.set(rc={'figure.figsize':(25,12)})\n",
    "\n",
    "\n",
    "\n",
    "\n",
    "\n",
    "#'#989882','#ab5c58','#799abb','#79403d','#d5adac','#bb7b79'"
   ]
  },
  {
   "cell_type": "code",
   "execution_count": 215,
   "id": "2ab9dd0b",
   "metadata": {},
   "outputs": [
    {
     "data": {
      "image/png": "[encoded data removed]",
      "text/plain": [
       "<Figure size 1800x864 with 2 Axes>"
      ]
     },
     "metadata": {},
     "output_type": "display_data"
    }
   ],
   "source": [
    "mask = np.triu(np.ones_like(dfnews.corr(), dtype=np.bool))\n",
    "heatmap = sns.heatmap(dfnews.corr(), mask=mask, vmin=-1, vmax=1, annot=True, cmap='PiYG',linewidths=1,fmt='.2f')\n",
    "heatmap.set_title('Triangle Correlation Heatmap', fontdict={'fontsize':18}, pad=16);"
   ]
  },
  {
   "cell_type": "code",
   "execution_count": 216,
   "id": "89b3b912",
   "metadata": {
    "colab": {
     "base_uri": "https://localhost:8080/"
    },
    "id": "89b3b912",
    "outputId": "b3f0c0a5-a953-4191-eacb-428bf7ff6e8c"
   },
   "outputs": [
    {
     "data": {
      "text/plain": [
       "1.0    1580\n",
       "0.0     465\n",
       "Name: hasImage, dtype: int64"
      ]
     },
     "execution_count": 216,
     "metadata": {},
     "output_type": "execute_result"
    }
   ],
   "source": [
    "nimg=dfnews['hasImage'].value_counts()\n",
    "\n",
    "nimg"
   ]
  },
  {
   "cell_type": "code",
   "execution_count": 217,
   "id": "4f505f87",
   "metadata": {
    "colab": {
     "base_uri": "https://localhost:8080/",
     "height": 430
    },
    "id": "4f505f87",
    "outputId": "274a191a-fcc2-45d2-8782-e182827459c7"
   },
   "outputs": [
    {
     "data": {
      "image/png": "[encoded data removed]",
      "text/plain": [
       "<Figure size 792x504 with 1 Axes>"
      ]
     },
     "metadata": {},
     "output_type": "display_data"
    }
   ],
   "source": [
    "#How many news in the dataset that have images or not?\n",
    "\n",
    "nimg=dfnews['hasImage'].value_counts()\n",
    "\n",
    "labels=['With Image','Without Image']\n",
    "\n",
    "sns.set(rc={'figure.figsize':(11,7)})\n",
    "\n",
    "\n",
    "plt.pie(nimg, labels=labels ,colors=['#cd0049','#e9ecec'],autopct='%.0f%%');\n",
    "plt.title('News with images  ', fontdict = {'fontsize': 18},weight = 'bold');\n",
    "\n",
    "\n",
    "\n",
    "\n"
   ]
  },
  {
   "cell_type": "code",
   "execution_count": 220,
   "id": "3ab5e86f",
   "metadata": {
    "colab": {
     "base_uri": "https://localhost:8080/"
    },
    "id": "3ab5e86f",
    "outputId": "7e0da2d4-bad0-4f49-a511-0c0e038c54c4"
   },
   "outputs": [
    {
     "data": {
      "text/plain": [
       "Index(['author', 'published', 'title', 'text', 'language', 'site_url',\n",
       "       'main_img_url', 'type', 'title_without_stopwords',\n",
       "       'text_without_stopwords', 'hasImage', 'Real'],\n",
       "      dtype='object')"
      ]
     },
     "execution_count": 220,
     "metadata": {},
     "output_type": "execute_result"
    }
   ],
   "source": [
    "dfnews.columns"
   ]
  },
  {
   "cell_type": "code",
   "execution_count": 221,
   "id": "5b0b7dd4",
   "metadata": {
    "colab": {
     "base_uri": "https://localhost:8080/",
     "height": 229
    },
    "id": "5b0b7dd4",
    "outputId": "99ea0c58-85b9-44d7-8664-2cc341e037f5"
   },
   "outputs": [
    {
     "data": {
      "image/png": "[encoded data removed]",
      "text/plain": [
       "<Figure size 213.55x180 with 2 Axes>"
      ]
     },
     "metadata": {},
     "output_type": "display_data"
    },
    {
     "data": {
      "text/plain": [
       "<Figure size 1008x1008 with 0 Axes>"
      ]
     },
     "metadata": {},
     "output_type": "display_data"
    }
   ],
   "source": [
    "\n",
    "\n",
    "sns.set_theme(style=\"whitegrid\")\n",
    "\n",
    "\n",
    "sns.pairplot(dfnews, hue='Real');\n",
    "\n",
    "sns.set(rc={'figure.figsize':(15,12)})\n",
    "plt.figure(figsize = (14,14)) ;\n",
    "\n",
    "\n"
   ]
  },
  {
   "cell_type": "code",
   "execution_count": 222,
   "id": "a6b1d085",
   "metadata": {
    "colab": {
     "base_uri": "https://localhost:8080/",
     "height": 896
    },
    "id": "a6b1d085",
    "outputId": "b58c2ef2-44af-42e0-9eba-082cd6982f36"
   },
   "outputs": [
    {
     "data": {
      "image/png": "[encoded data removed]",
      "text/plain": [
       "<Figure size 1080x864 with 1 Axes>"
      ]
     },
     "metadata": {},
     "output_type": "display_data"
    }
   ],
   "source": [
    "#Fake Authors\n",
    "sns.set_theme(style=\"whitegrid\")\n",
    "\n",
    "\n",
    "Fn=dfnews.loc[dfnews.Real == 0].author.value_counts().head(10).plot(kind='bar');\n",
    "\n",
    "Fn;"
   ]
  },
  {
   "cell_type": "code",
   "execution_count": 223,
   "id": "047e16a2",
   "metadata": {
    "colab": {
     "base_uri": "https://localhost:8080/",
     "height": 806
    },
    "id": "047e16a2",
    "outputId": "4198d2df-e42c-459f-9d44-3d2d9d0db6b5"
   },
   "outputs": [
    {
     "data": {
      "image/png": "[encoded data removed]",
      "text/plain": [
       "<Figure size 1080x864 with 1 Axes>"
      ]
     },
     "metadata": {},
     "output_type": "display_data"
    }
   ],
   "source": [
    "#Fake URL sites\n",
    "dfnews.loc[dfnews.Real == 0].site_url.value_counts().head(10).plot(kind='bar');"
   ]
  },
  {
   "cell_type": "code",
   "execution_count": 224,
   "id": "c8872e17",
   "metadata": {
    "colab": {
     "base_uri": "https://localhost:8080/",
     "height": 808
    },
    "id": "c8872e17",
    "outputId": "a3e65e2b-724c-465e-d244-cba4d46b1387"
   },
   "outputs": [
    {
     "data": {
      "image/png": "[encoded data removed]",
      "text/plain": [
       "<Figure size 1080x864 with 1 Axes>"
      ]
     },
     "metadata": {},
     "output_type": "display_data"
    }
   ],
   "source": [
    "#Real Authors\n",
    "dfnews.loc[dfnews.Real == 1].author.value_counts().head(10).plot(kind='bar');"
   ]
  },
  {
   "cell_type": "code",
   "execution_count": 225,
   "id": "072c0994",
   "metadata": {
    "colab": {
     "base_uri": "https://localhost:8080/",
     "height": 822
    },
    "id": "072c0994",
    "outputId": "2364a86d-a588-4851-cd0a-5d119b74556c"
   },
   "outputs": [
    {
     "data": {
      "image/png": "[encoded data removed]",
      "text/plain": [
       "<Figure size 1080x864 with 1 Axes>"
      ]
     },
     "metadata": {},
     "output_type": "display_data"
    }
   ],
   "source": [
    "#Real URL sites\n",
    "dfnews.loc[dfnews.Real == 1].site_url.value_counts().head(10).plot(kind='bar');"
   ]
  },
  {
   "cell_type": "code",
   "execution_count": 226,
   "id": "a39f2642",
   "metadata": {
    "colab": {
     "base_uri": "https://localhost:8080/"
    },
    "id": "a39f2642",
    "outputId": "7cdfd6c6-1687-4096-e244-f55aea814aa0"
   },
   "outputs": [
    {
     "data": {
      "text/plain": [
       "{'100percentfedup.com',\n",
       " 'addictinginfo.org',\n",
       " 'dailywire.com',\n",
       " 'davidduke.com',\n",
       " 'fromthetrenchesworldreport.com',\n",
       " 'frontpagemag.com',\n",
       " 'newstarget.com',\n",
       " 'politicususa.com',\n",
       " 'presstv.com',\n",
       " 'presstv.ir',\n",
       " 'prisonplanet.com',\n",
       " 'proudemocrat.com',\n",
       " 'redstatewatcher.com',\n",
       " 'returnofkings.com',\n",
       " 'washingtonsblog.com',\n",
       " 'westernjournalism.com',\n",
       " 'whydontyoutrythis.com',\n",
       " 'wnd.com'}"
      ]
     },
     "execution_count": 226,
     "metadata": {},
     "output_type": "execute_result"
    }
   ],
   "source": [
    "real = set(dfnews[dfnews['Real'] == 1]['site_url'].unique())\n",
    "real"
   ]
  },
  {
   "cell_type": "code",
   "execution_count": 227,
   "id": "97f73d1a",
   "metadata": {
    "colab": {
     "base_uri": "https://localhost:8080/"
    },
    "id": "97f73d1a",
    "outputId": "fbf80a64-9173-449c-aa4b-18e4e0664223"
   },
   "outputs": [
    {
     "data": {
      "text/plain": [
       "{'21stcenturywire.com',\n",
       " 'abcnews.com.co',\n",
       " 'abeldanger.net',\n",
       " 'abovetopsecret.com',\n",
       " 'activistpost.com',\n",
       " 'adobochronicles.com',\n",
       " 'ahtribune.com',\n",
       " 'allnewspipeline.com',\n",
       " 'americannews.com',\n",
       " 'americasfreedomfighters.com',\n",
       " 'amren.com',\n",
       " 'amtvmedia.com',\n",
       " 'awdnews.com',\n",
       " 'barenakedislam.com',\n",
       " 'clickhole.com',\n",
       " 'coasttocoastam.com',\n",
       " 'corbettreport.com',\n",
       " 'countercurrents.org',\n",
       " 'counterpunch.org',\n",
       " 'darkmoon.me',\n",
       " 'davidduke.com',\n",
       " 'davidstockmanscontracorner.com',\n",
       " 'davidwolfe.com',\n",
       " 'dcclothesline.com',\n",
       " 'defenddemocracy.press',\n",
       " 'dennismichaellynch.com',\n",
       " 'departed.co',\n",
       " 'der-postillon.com',\n",
       " 'fromthetrenchesworldreport.com',\n",
       " 'frontpagemag.com',\n",
       " 'galacticconnection.com',\n",
       " 'globalresearch.ca',\n",
       " 'infowars.com',\n",
       " 'intrepidreport.com',\n",
       " 'legorafi.fr',\n",
       " 'madworldnews.com',\n",
       " 'naturalnews.com',\n",
       " 'newstarget.com',\n",
       " 'presstv.ir',\n",
       " 'prisonplanet.com',\n",
       " 'projectveritas.com',\n",
       " 'returnofkings.com',\n",
       " 'shiftfrequency.com',\n",
       " 'thedailysheeple.com',\n",
       " 'theeconomiccollapseblog.com',\n",
       " 'thefreethoughtproject.com',\n",
       " 'themindunleashed.com',\n",
       " 'theonion.com',\n",
       " 'thepeoplescube.com',\n",
       " 'therussophile.org',\n",
       " 'thesaker.is',\n",
       " 'thetruthseeker.co.uk',\n",
       " 'theunrealtimes.com',\n",
       " 'topinfopost.com',\n",
       " 'veteranstoday.com',\n",
       " 'voltairenet.org',\n",
       " 'washingtonsblog.com',\n",
       " 'westernjournalism.com',\n",
       " 'whatreallyhappened.com'}"
      ]
     },
     "execution_count": 227,
     "metadata": {},
     "output_type": "execute_result"
    }
   ],
   "source": [
    "fake = set(dfnews[dfnews['Real'] == 0]['site_url'].unique())\n",
    "\n",
    "fake"
   ]
  },
  {
   "cell_type": "markdown",
   "id": "79c3090e",
   "metadata": {
    "id": "79c3090e"
   },
   "source": [
    "### Feature Engineering"
   ]
  },
  {
   "cell_type": "code",
   "execution_count": 228,
   "id": "f5350c72",
   "metadata": {
    "id": "f5350c72"
   },
   "outputs": [],
   "source": [
    "#target is our column to be predicted and features are the columns that we will use for modelling\n",
    "labels = dfnews.Real\n",
    "features = dfnews[['author','site_url','text_without_stopwords']]"
   ]
  },
  {
   "cell_type": "code",
   "execution_count": 229,
   "id": "974233bb",
   "metadata": {
    "colab": {
     "base_uri": "https://localhost:8080/",
     "height": 423
    },
    "id": "974233bb",
    "outputId": "3f682822-31c8-4fd9-f342-fd7bda734342"
   },
   "outputs": [
    {
     "data": {
      "text/html": [
       "<div>\n",
       "<style scoped>\n",
       "    .dataframe tbody tr th:only-of-type {\n",
       "        vertical-align: middle;\n",
       "    }\n",
       "\n",
       "    .dataframe tbody tr th {\n",
       "        vertical-align: top;\n",
       "    }\n",
       "\n",
       "    .dataframe thead th {\n",
       "        text-align: right;\n",
       "    }\n",
       "</style>\n",
       "<table border=\"1\" class=\"dataframe\">\n",
       "  <thead>\n",
       "    <tr style=\"text-align: right;\">\n",
       "      <th></th>\n",
       "      <th>author</th>\n",
       "      <th>site_url</th>\n",
       "      <th>text_without_stopwords</th>\n",
       "    </tr>\n",
       "  </thead>\n",
       "  <tbody>\n",
       "    <tr>\n",
       "      <th>0</th>\n",
       "      <td>Barracuda Brigade</td>\n",
       "      <td>100percentfedup.com</td>\n",
       "      <td>print pay back money plus interest entire fami...</td>\n",
       "    </tr>\n",
       "    <tr>\n",
       "      <th>1</th>\n",
       "      <td>reasoning with facts</td>\n",
       "      <td>100percentfedup.com</td>\n",
       "      <td>attorney general loretta lynch plead fifth bar...</td>\n",
       "    </tr>\n",
       "    <tr>\n",
       "      <th>2</th>\n",
       "      <td>Barracuda Brigade</td>\n",
       "      <td>100percentfedup.com</td>\n",
       "      <td>red state fox news sunday reported morning ant...</td>\n",
       "    </tr>\n",
       "    <tr>\n",
       "      <th>3</th>\n",
       "      <td>Fed Up</td>\n",
       "      <td>100percentfedup.com</td>\n",
       "      <td>email kayla mueller prisoner tortured isis cha...</td>\n",
       "    </tr>\n",
       "    <tr>\n",
       "      <th>4</th>\n",
       "      <td>Fed Up</td>\n",
       "      <td>100percentfedup.com</td>\n",
       "      <td>email healthcare reform make america great sin...</td>\n",
       "    </tr>\n",
       "    <tr>\n",
       "      <th>...</th>\n",
       "      <td>...</td>\n",
       "      <td>...</td>\n",
       "      <td>...</td>\n",
       "    </tr>\n",
       "    <tr>\n",
       "      <th>2041</th>\n",
       "      <td>Matt Barber</td>\n",
       "      <td>wnd.com</td>\n",
       "      <td>check hillarythemed haunted house anticlinton ...</td>\n",
       "    </tr>\n",
       "    <tr>\n",
       "      <th>2042</th>\n",
       "      <td>Jane Chastain</td>\n",
       "      <td>wnd.com</td>\n",
       "      <td>good samaritan wearing indian headdress disarm...</td>\n",
       "    </tr>\n",
       "    <tr>\n",
       "      <th>2043</th>\n",
       "      <td>Michael Brown</td>\n",
       "      <td>wnd.com</td>\n",
       "      <td>skype sex scam fortune built shame moroccan bo...</td>\n",
       "    </tr>\n",
       "    <tr>\n",
       "      <th>2044</th>\n",
       "      <td>Ann Coulter</td>\n",
       "      <td>wnd.com</td>\n",
       "      <td>posted eddie skyhigh potency may scare away cr...</td>\n",
       "    </tr>\n",
       "    <tr>\n",
       "      <th>2045</th>\n",
       "      <td>Larry Elder</td>\n",
       "      <td>wnd.com</td>\n",
       "      <td>billion even known keeping supposedly deleted ...</td>\n",
       "    </tr>\n",
       "  </tbody>\n",
       "</table>\n",
       "<p>2045 rows × 3 columns</p>\n",
       "</div>"
      ],
      "text/plain": [
       "                    author             site_url  \\\n",
       "0        Barracuda Brigade  100percentfedup.com   \n",
       "1     reasoning with facts  100percentfedup.com   \n",
       "2        Barracuda Brigade  100percentfedup.com   \n",
       "3                   Fed Up  100percentfedup.com   \n",
       "4                   Fed Up  100percentfedup.com   \n",
       "...                    ...                  ...   \n",
       "2041           Matt Barber              wnd.com   \n",
       "2042         Jane Chastain              wnd.com   \n",
       "2043         Michael Brown              wnd.com   \n",
       "2044           Ann Coulter              wnd.com   \n",
       "2045           Larry Elder              wnd.com   \n",
       "\n",
       "                                 text_without_stopwords  \n",
       "0     print pay back money plus interest entire fami...  \n",
       "1     attorney general loretta lynch plead fifth bar...  \n",
       "2     red state fox news sunday reported morning ant...  \n",
       "3     email kayla mueller prisoner tortured isis cha...  \n",
       "4     email healthcare reform make america great sin...  \n",
       "...                                                 ...  \n",
       "2041  check hillarythemed haunted house anticlinton ...  \n",
       "2042  good samaritan wearing indian headdress disarm...  \n",
       "2043  skype sex scam fortune built shame moroccan bo...  \n",
       "2044  posted eddie skyhigh potency may scare away cr...  \n",
       "2045  billion even known keeping supposedly deleted ...  \n",
       "\n",
       "[2045 rows x 3 columns]"
      ]
     },
     "execution_count": 229,
     "metadata": {},
     "output_type": "execute_result"
    }
   ],
   "source": [
    "features"
   ]
  },
  {
   "cell_type": "code",
   "execution_count": 230,
   "id": "4b8d8569",
   "metadata": {
    "id": "4b8d8569"
   },
   "outputs": [],
   "source": [
    "#since all the feature columns are text data, we want to use text mining techniques, we put all of them in the same column for ease of processing\n",
    "features['combined_url_text'] = features[\"author\"]+\" \"+features[\"site_url\"] + \" \" + features[\"text_without_stopwords\"]\n",
    "features.drop(['author','site_url', 'text_without_stopwords'], axis = 1, inplace = True)\n",
    "features=features.combined_url_text"
   ]
  },
  {
   "cell_type": "code",
   "execution_count": 231,
   "id": "7cc408ee",
   "metadata": {
    "colab": {
     "base_uri": "https://localhost:8080/"
    },
    "id": "7cc408ee",
    "outputId": "32722924-3e41-4714-88cc-2fd75a623522"
   },
   "outputs": [
    {
     "data": {
      "text/plain": [
       "0       Barracuda Brigade 100percentfedup.com print pa...\n",
       "1       reasoning with facts 100percentfedup.com attor...\n",
       "2       Barracuda Brigade 100percentfedup.com red stat...\n",
       "3       Fed Up 100percentfedup.com email kayla mueller...\n",
       "4       Fed Up 100percentfedup.com email healthcare re...\n",
       "                              ...                        \n",
       "2041    Matt Barber wnd.com check hillarythemed haunte...\n",
       "2042    Jane Chastain wnd.com good samaritan wearing i...\n",
       "2043    Michael Brown wnd.com skype sex scam fortune b...\n",
       "2044    Ann Coulter wnd.com posted eddie skyhigh poten...\n",
       "2045    Larry Elder wnd.com billion even known keeping...\n",
       "Name: combined_url_text, Length: 2045, dtype: object"
      ]
     },
     "execution_count": 231,
     "metadata": {},
     "output_type": "execute_result"
    }
   ],
   "source": [
    "features"
   ]
  },
  {
   "cell_type": "code",
   "execution_count": 232,
   "id": "5b097425",
   "metadata": {
    "id": "5b097425"
   },
   "outputs": [],
   "source": [
    "from sklearn.feature_extraction.text import TfidfVectorizer\n",
    "vectorizer_words = TfidfVectorizer(stop_words='english')\n",
    "X = vectorizer_words.fit_transform(features)"
   ]
  },
  {
   "cell_type": "code",
   "execution_count": 233,
   "id": "718877dc",
   "metadata": {
    "colab": {
     "base_uri": "https://localhost:8080/"
    },
    "id": "718877dc",
    "outputId": "bef48d41-77aa-4ba6-a1bc-de7e1b359b51"
   },
   "outputs": [
    {
     "name": "stdout",
     "output_type": "stream",
     "text": [
      "Initialization complete\n",
      "Iteration 0, inertia 3931.084929951696\n",
      "Iteration 1, inertia 1997.8360674795867\n",
      "Iteration 2, inertia 1993.0927907852524\n",
      "Iteration 3, inertia 1992.774916037235\n",
      "Iteration 4, inertia 1992.6297269048723\n",
      "Iteration 5, inertia 1992.4931222558257\n",
      "Iteration 6, inertia 1992.3662639440668\n",
      "Iteration 7, inertia 1992.1800454117085\n",
      "Iteration 8, inertia 1991.7304158353927\n",
      "Iteration 9, inertia 1991.0393668556214\n",
      "Iteration 10, inertia 1990.4822567762849\n",
      "Iteration 11, inertia 1990.3863506250418\n",
      "Iteration 12, inertia 1990.182019910975\n",
      "Iteration 13, inertia 1990.1626751658212\n",
      "Converged at iteration 13: strict convergence.\n"
     ]
    },
    {
     "data": {
      "text/plain": [
       "KMeans(max_iter=100, n_clusters=2, n_init=1, verbose=True)"
      ]
     },
     "execution_count": 233,
     "metadata": {},
     "output_type": "execute_result"
    }
   ],
   "source": [
    "#trying to cluster the 2 data centres ie fake and real news\n",
    "from sklearn.cluster import KMeans\n",
    "km = KMeans(n_clusters = 2, init = 'k-means++', max_iter = 100, n_init = 1, verbose = True)\n",
    "km.fit(X)"
   ]
  },
  {
   "cell_type": "code",
   "execution_count": 234,
   "id": "f18864d8",
   "metadata": {
    "id": "f18864d8",
    "scrolled": true
   },
   "outputs": [],
   "source": [
    "import numpy as np\n",
    "np.unique(km.labels_, return_counts=True)\n",
    "features.reset_index(drop=True, inplace=True)"
   ]
  },
  {
   "cell_type": "code",
   "execution_count": 235,
   "id": "11e2cf4b",
   "metadata": {
    "id": "11e2cf4b"
   },
   "outputs": [],
   "source": [
    "#Here we are collecting all the fake data into one cluster and all the real data into another.\n",
    "#We are doing this as a pre step to the coming logic.\n",
    "text={}\n",
    "for i,cluster in enumerate(km.labels_):\n",
    "    oneDocument = features[i]\n",
    "    if cluster not in text.keys():\n",
    "        text[cluster] = oneDocument\n",
    "    else:\n",
    "        text[cluster] += oneDocument"
   ]
  },
  {
   "cell_type": "code",
   "execution_count": 236,
   "id": "d6e72e7d",
   "metadata": {
    "colab": {
     "base_uri": "https://localhost:8080/"
    },
    "id": "d6e72e7d",
    "outputId": "43fd50c3-80d6-48f2-961f-ddecc9bf2d23"
   },
   "outputs": [
    {
     "name": "stderr",
     "output_type": "stream",
     "text": [
      "[nltk_data] Downloading package stopwords to\n",
      "[nltk_data]     /Users/developing/nltk_data...\n",
      "[nltk_data]   Package stopwords is already up-to-date!\n",
      "[nltk_data] Downloading package punkt to\n",
      "[nltk_data]     /Users/developing/nltk_data...\n",
      "[nltk_data]   Package punkt is already up-to-date!\n"
     ]
    },
    {
     "data": {
      "text/plain": [
       "True"
      ]
     },
     "execution_count": 236,
     "metadata": {},
     "output_type": "execute_result"
    }
   ],
   "source": [
    "#importing nltk libraries for NLP tools\n",
    "from nltk.tokenize import word_tokenize\n",
    "from nltk.corpus import stopwords\n",
    "from nltk.probability import FreqDist\n",
    "from string import punctuation\n",
    "from heapq import nlargest\n",
    "import nltk \n",
    "nltk.download('stopwords')\n",
    "nltk.download('punkt')"
   ]
  },
  {
   "cell_type": "code",
   "execution_count": null,
   "id": "f527719b",
   "metadata": {
    "id": "f527719b"
   },
   "outputs": [],
   "source": [
    "#finding the keywords that appear in both the clusters and we do not want to include the stop words as those will be the most frequent\n",
    "_stopwords = set(stopwords.words('english') + list(punctuation))\n",
    "\n",
    "keywords = {}\n",
    "counts={}\n",
    "for cluster in range(2):\n",
    "    word_sent = word_tokenize(text[cluster].lower())\n",
    "    word_sent=[word for word in word_sent if word not in _stopwords]\n",
    "    freq = FreqDist(word_sent)\n",
    "    keywords[cluster] = nlargest(100, freq, key=freq.get)\n",
    "    counts[cluster]=freq"
   ]
  },
  {
   "cell_type": "code",
   "execution_count": null,
   "id": "7959e948",
   "metadata": {
    "colab": {
     "base_uri": "https://localhost:8080/"
    },
    "id": "7959e948",
    "outputId": "59fec658-dcac-4642-d2b7-975f8164b334",
    "scrolled": true
   },
   "outputs": [],
   "source": [
    "keywords"
   ]
  },
  {
   "cell_type": "code",
   "execution_count": 237,
   "id": "4b214c9f",
   "metadata": {
    "id": "4b214c9f"
   },
   "outputs": [],
   "source": [
    "# finding keyword that are uniques to each cluster\n",
    "set0 = set(keywords[0])\n",
    "set1 = set(keywords[1])\n",
    "unique0=set0-set1\n",
    "unique1 =set1-set0"
   ]
  },
  {
   "cell_type": "code",
   "execution_count": 238,
   "id": "0e0d18ef",
   "metadata": {
    "id": "0e0d18ef"
   },
   "outputs": [],
   "source": [
    "unique_keys={}\n",
    "unique_keys[0]=nlargest(10, unique0, key=counts[0].get)\n",
    "unique_keys[1]=nlargest(10, unique1, key=counts[1].get)"
   ]
  },
  {
   "cell_type": "code",
   "execution_count": 239,
   "id": "67353a76",
   "metadata": {
    "colab": {
     "base_uri": "https://localhost:8080/"
    },
    "id": "67353a76",
    "outputId": "765eae52-56f5-4e1a-e651-564999b9aba9"
   },
   "outputs": [
    {
     "data": {
      "text/plain": [
       "{0: ['police',\n",
       "  'der',\n",
       "  'author',\n",
       "  'life',\n",
       "  'men',\n",
       "  'man',\n",
       "  'good',\n",
       "  'want',\n",
       "  'die',\n",
       "  'food'],\n",
       " 1: ['clinton',\n",
       "  'hillary',\n",
       "  'election',\n",
       "  'campaign',\n",
       "  'donald',\n",
       "  'fbi',\n",
       "  'clintons',\n",
       "  'email',\n",
       "  'emails',\n",
       "  'trumps']}"
      ]
     },
     "execution_count": 239,
     "metadata": {},
     "output_type": "execute_result"
    }
   ],
   "source": [
    "unique_keys"
   ]
  },
  {
   "cell_type": "markdown",
   "id": "0bf9a3cc",
   "metadata": {
    "id": "0bf9a3cc"
   },
   "source": [
    "# Models"
   ]
  },
  {
   "cell_type": "code",
   "execution_count": 240,
   "id": "991efa80",
   "metadata": {
    "id": "991efa80"
   },
   "outputs": [],
   "source": [
    "#using the Vectorizer \n",
    "from sklearn.feature_extraction.text import TfidfVectorizer\n",
    "from sklearn.model_selection import train_test_split\n",
    "\n",
    "X_train,X_test,y_train,y_test=train_test_split(features,labels,test_size=0.20,random_state=42)\n",
    "\n",
    "vectorizer = TfidfVectorizer(stop_words = 'english')\n",
    "tfidf_train = vectorizer.fit_transform(X_train)\n",
    "tfidf_test = vectorizer.transform(X_test)\n",
    "tfidf_df = pd.DataFrame(tfidf_train.A, columns=vectorizer.get_feature_names())"
   ]
  },
  {
   "cell_type": "code",
   "execution_count": 241,
   "id": "92bccc11",
   "metadata": {
    "colab": {
     "base_uri": "https://localhost:8080/"
    },
    "id": "92bccc11",
    "outputId": "330b0398-8b93-4ed0-ad12-7e56a65a933c"
   },
   "outputs": [
    {
     "name": "stdout",
     "output_type": "stream",
     "text": [
      "(1636, 42141)\n",
      "(1636,)\n"
     ]
    }
   ],
   "source": [
    "print(tfidf_train.shape)\n",
    "print(y_train.shape)"
   ]
  },
  {
   "cell_type": "code",
   "execution_count": 242,
   "id": "6b49fc22",
   "metadata": {
    "colab": {
     "base_uri": "https://localhost:8080/"
    },
    "id": "6b49fc22",
    "outputId": "119724c8-38d1-4694-b04a-d941311d3a65"
   },
   "outputs": [
    {
     "name": "stdout",
     "output_type": "stream",
     "text": [
      "KNN Model accuracy: 0.7188\n"
     ]
    }
   ],
   "source": [
    "#KNN Classification model\n",
    "from sklearn.neighbors import KNeighborsClassifier\n",
    "from sklearn import metrics\n",
    "\n",
    "KNN = KNeighborsClassifier(n_neighbors=5)\n",
    "KNb.fit(tfidf_train, y_train)\n",
    "y_pred = KNb.predict(tfidf_test)\n",
    "KNscore=metrics.accuracy_score(y_test,y_pred)\n",
    "print(\"KNN Model accuracy: %0.4f\" %KNscore)"
   ]
  },
  {
   "cell_type": "code",
   "execution_count": 243,
   "id": "nnZd8lBrVfDb",
   "metadata": {
    "colab": {
     "base_uri": "https://localhost:8080/"
    },
    "id": "nnZd8lBrVfDb",
    "outputId": "f23dd790-4116-4142-a4ac-b740d1ef547b"
   },
   "outputs": [
    {
     "name": "stdout",
     "output_type": "stream",
     "text": [
      "[[215  49]\n",
      " [ 66  79]]\n"
     ]
    }
   ],
   "source": [
    "#creating a confusion matrix\n",
    "from sklearn.metrics import confusion_matrix\n",
    "conf_matrix = confusion_matrix(y_test, y_pred)\n",
    "print(conf_matrix)"
   ]
  },
  {
   "cell_type": "code",
   "execution_count": 244,
   "id": "e40a867a",
   "metadata": {
    "colab": {
     "base_uri": "https://localhost:8080/"
    },
    "id": "e40a867a",
    "outputId": "be6afa83-1ddf-4e0b-ad45-da50c63008e7"
   },
   "outputs": [
    {
     "name": "stdout",
     "output_type": "stream",
     "text": [
      "RandomForest Model accuracy:  0.9413\n"
     ]
    }
   ],
   "source": [
    "#Random Forest Classification model\n",
    "from sklearn.ensemble import RandomForestClassifier\n",
    "\n",
    "RF = RandomForestClassifier(n_estimators=1000)\n",
    "RF.fit(tfidf_train,y_train)\n",
    "y_pred = RF.predict(tfidf_test)\n",
    "RFscore = metrics.accuracy_score(y_test,y_pred)\n",
    "print(\"RandomForest Model accuracy:  %0.4f\" %RFscore)"
   ]
  },
  {
   "cell_type": "code",
   "execution_count": 245,
   "id": "EHEzTxaIN2XB",
   "metadata": {
    "colab": {
     "base_uri": "https://localhost:8080/"
    },
    "id": "EHEzTxaIN2XB",
    "outputId": "bc2bb227-715b-4463-9887-fb783a77bfa3"
   },
   "outputs": [
    {
     "name": "stdout",
     "output_type": "stream",
     "text": [
      "[[262   2]\n",
      " [ 22 123]]\n"
     ]
    }
   ],
   "source": [
    "#creating a confusion matrix\n",
    "from sklearn.metrics import confusion_matrix\n",
    "conf_matrix = confusion_matrix(y_test, y_pred)\n",
    "print(conf_matrix)"
   ]
  },
  {
   "cell_type": "code",
   "execution_count": 246,
   "id": "fa548b77",
   "metadata": {
    "colab": {
     "base_uri": "https://localhost:8080/"
    },
    "id": "fa548b77",
    "outputId": "70d31b28-4fff-4ed2-dc49-16cf1453ff96"
   },
   "outputs": [
    {
     "name": "stdout",
     "output_type": "stream",
     "text": [
      "Adaboost Classifier accuracy: 0.9878\n"
     ]
    }
   ],
   "source": [
    "#Adaboost Classification model\n",
    "from   sklearn.ensemble import AdaBoostClassifier\n",
    "from sklearn.tree import DecisionTreeClassifier\n",
    "\n",
    "Adab = AdaBoostClassifier(DecisionTreeClassifier(max_depth=10),n_estimators=5)\n",
    "history = Adab.fit(tfidf_train, y_train)\n",
    "y_pred = Adab.predict(tfidf_test)\n",
    "ABscore = metrics.accuracy_score(y_test,y_pred)\n",
    "print(\"Adaboost Classifier accuracy: %0.4f\" %ABscore)"
   ]
  },
  {
   "cell_type": "markdown",
   "id": "f5da9909",
   "metadata": {
    "id": "f5da9909"
   },
   "source": [
    "### Result"
   ]
  },
  {
   "cell_type": "code",
   "execution_count": 247,
   "id": "4988bb7b",
   "metadata": {
    "colab": {
     "base_uri": "https://localhost:8080/"
    },
    "id": "4988bb7b",
    "outputId": "d596204f-b7cd-404c-c60b-29472f8db217",
    "scrolled": true
   },
   "outputs": [
    {
     "name": "stdout",
     "output_type": "stream",
     "text": [
      "[[261   3]\n",
      " [  2 143]]\n"
     ]
    }
   ],
   "source": [
    "#creating a confusion matrix\n",
    "from sklearn.metrics import confusion_matrix\n",
    "conf_matrix = confusion_matrix(y_test, y_pred)\n",
    "print(conf_matrix)"
   ]
  },
  {
   "cell_type": "code",
   "execution_count": 248,
   "id": "268de352",
   "metadata": {
    "colab": {
     "base_uri": "https://localhost:8080/",
     "height": 635
    },
    "id": "268de352",
    "outputId": "ab5c142a-82f3-4e3f-b283-f6a81686eaf3"
   },
   "outputs": [
    {
     "data": {
      "image/png": "[encoded data removed]",
      "text/plain": [
       "<Figure size 720x720 with 1 Axes>"
      ]
     },
     "metadata": {},
     "output_type": "display_data"
    }
   ],
   "source": [
    "#creating a matrix using seaborn\n",
    "import seaborn as sns\n",
    "\n",
    "cm_df = pd.DataFrame(conf_matrix, columns=np.unique(y_test), index = np.unique(y_test))\n",
    "cm_df.columns.name = 'Predicted'\n",
    "cm_df.index.name = 'Actual'\n",
    "cm_df\n",
    "plt.figure(figsize=(10,10))\n",
    "\n",
    "plt.xlabel('Predicted',fontdict = {'fontsize': 18},weight = 'bold')\n",
    "plt.ylabel('Actual',fontdict = {'fontsize': 18},weight = 'bold')\n",
    "\n",
    "plt.title('Confusion matrix for Fake and Real news ',fontdict = {'fontsize': 18},weight = 'bold')\n",
    "\n",
    "\n",
    "\n",
    "\n",
    "sns.heatmap(cm_df, annot=True, vmax=20, square=True, cmap=\"PiYG\",annot_kws={\"size\":12} ,cbar=False, fmt='g');\n",
    "\n",
    "\n",
    "\n",
    "\n",
    "\n",
    "\n"
   ]
  }
 ],
 "metadata": {
  "colab": {
   "name": "fake_news_classification (22).ipynb",
   "provenance": []
  },
  "kernelspec": {
   "display_name": "Python 3 (ipykernel)",
   "language": "python",
   "name": "python3"
  },
  "language_info": {
   "codemirror_mode": {
    "name": "ipython",
    "version": 3
   },
   "file_extension": ".py",
   "mimetype": "text/x-python",
   "name": "python",
   "nbconvert_exporter": "python",
   "pygments_lexer": "ipython3",
   "version": "3.8.8"
  },
  "papermill": {
   "default_parameters": {},
   "duration": 52.708801,
   "end_time": "2021-12-07T17:40:46.659513",
   "environment_variables": {},
   "exception": null,
   "input_path": "__notebook__.ipynb",
   "output_path": "__notebook__.ipynb",
   "parameters": {},
   "start_time": "2021-12-07T17:39:53.950712",
   "version": "2.3.3"
  },
  "varInspector": {
   "cols": {
    "lenName": 16,
    "lenType": 16,
    "lenVar": 40
   },
   "kernels_config": {
    "python": {
     "delete_cmd_postfix": "",
     "delete_cmd_prefix": "del ",
     "library": "var_list.py",
     "varRefreshCmd": "print(var_dic_list())"
    },
    "r": {
     "delete_cmd_postfix": ") ",
     "delete_cmd_prefix": "rm(",
     "library": "var_list.r",
     "varRefreshCmd": "cat(var_dic_list()) "
    }
   },
   "types_to_exclude": [
    "module",
    "function",
    "builtin_function_or_method",
    "instance",
    "_Feature"
   ],
   "window_display": false
  }
 },
 "nbformat": 4,
 "nbformat_minor": 5
}
